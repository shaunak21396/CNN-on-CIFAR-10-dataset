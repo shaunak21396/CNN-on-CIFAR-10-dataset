{
  "cells": [
    {
      "attachments": {},
      "cell_type": "markdown",
      "metadata": {
        "id": "pd3HZixGQe_B"
      },
      "source": [
        "## Image Classification task on **CIFAR-10 dataset**\n",
        "\n",
        "It contains 60,000 32x32 RGB images of 10 different classes (50,000 for training and 10,000 for testing)\n",
        "\n",
        "Citation: Learning Multiple Layers of Features from Tiny Images, Alex Krizhevsky, 2009."
      ]
    },
    {
      "cell_type": "code",
      "execution_count": 13,
      "metadata": {
        "id": "r1M_slgYQe_F"
      },
      "outputs": [],
      "source": [
        "LOG_ROOT = 'tensorboard_logs'\n",
        "USE_GPU = False"
      ]
    },
    {
      "cell_type": "code",
      "execution_count": 14,
      "metadata": {
        "id": "QASxNVM3Qe_H",
        "nbgrader": {
          "grade": false,
          "grade_id": "cell-1073cd4f1b08084c",
          "locked": true,
          "schema_version": 3,
          "solution": false,
          "task": false
        }
      },
      "outputs": [],
      "source": [
        "%matplotlib inline\n",
        "import os\n",
        "import time\n",
        "import datetime\n",
        "import numpy as np\n",
        "import matplotlib.pyplot as plt\n",
        "import imageio\n",
        "import cv2\n",
        "import torch\n",
        "import torch.nn as nn\n",
        "import torch.nn.functional as F\n",
        "import torch.optim as optim\n",
        "from torchvision.datasets import CIFAR10\n",
        "from torch.utils.data import DataLoader\n",
        "import torchvision.transforms as transforms\n",
        "from torch.utils.tensorboard import SummaryWriter\n",
        "import urllib\n",
        "\n",
        "# Image plotting function\n",
        "def plot_multiple(images, titles=None, colormap='gray',\n",
        "                  max_columns=np.inf, imwidth=2, imheight=2, share_axes=False):\n",
        "    \"\"\"\n",
        "    Plot multiple images as subplots on a grid. Images must be channel-first\n",
        "    and between [0, 1].\n",
        "    \"\"\"\n",
        "    images = [np.transpose(im, (1, 2, 0)) for im in images]\n",
        "    if titles is None:\n",
        "        titles = [''] * len(images)\n",
        "    assert len(images) == len(titles)\n",
        "    n_images = len(images)\n",
        "    n_cols = min(max_columns, n_images)\n",
        "    n_rows = int(np.ceil(n_images / n_cols))\n",
        "    fig, axes = plt.subplots(\n",
        "        n_rows, n_cols, figsize=(n_cols * imwidth, n_rows * imheight),\n",
        "        squeeze=False, sharex=share_axes, sharey=share_axes)\n",
        "\n",
        "    axes = axes.flat\n",
        "    # Hide subplots without content\n",
        "    for ax in axes[n_images:]:\n",
        "        ax.axis('off')\n",
        "        \n",
        "    if not isinstance(colormap, (list,tuple)):\n",
        "        colormaps = [colormap]*n_images\n",
        "    else:\n",
        "        colormaps = colormap\n",
        "\n",
        "    for ax, image, title, cmap in zip(axes, images, titles, colormaps):\n",
        "        ax.imshow(image, cmap=cmap)\n",
        "        ax.set_title(title)\n",
        "        ax.get_xaxis().set_visible(False)\n",
        "        ax.get_yaxis().set_visible(False)\n",
        "        \n",
        "    fig.tight_layout()\n",
        "    \n",
        "def visualize_dataset(dataset, n_samples=24, max_columns=6):\n",
        "    xs, ys = list(zip(*[dataset[i] for i in range(n_samples)]))\n",
        "    plot_multiple([x / 2 + 0.5 for x in xs], [labels[i] for i in ys], max_columns=max_columns)"
      ]
    },
    {
      "cell_type": "code",
      "execution_count": 15,
      "metadata": {
        "colab": {
          "base_uri": "https://localhost:8080/",
          "height": 753,
          "referenced_widgets": [
            "d8fc09623abe42ef9fa2aa541f179b5e",
            "6ac6f72903184095b2b999edea30dfdd",
            "c0b1313e788141cd883deaf0edfcfc0b",
            "e5091c0182104386b443b7f88be09c7a",
            "133ff57812d54784944f04631575f25c",
            "f4a6f1af430a4c7ebe27893b06718f3f",
            "37512f08a7e3467789ba9e29d52bc33e",
            "7751787da00142d5a82c6d94be341218",
            "64a0e1339a04460dbedc723c60c2d68e",
            "e70ece4382084f88ae4a9b39edcaccc2",
            "d4bb9dd817bf47b0b204462515dedf5c",
            "b7dceec9d1b24c4db64ee8b7983f42d1",
            "e4b8056fad9545e19b878da732184f2c",
            "9c8cdf441c91464387213079a179fb58",
            "e41472a38ba5413aa9a9c5e0ae91a8d1",
            "269008ff12794c329887d7c58bd27a5b",
            "39f7ff272deb447d838cccc726cacc0b",
            "fed7f64132d947f3858b70aeff29ec07",
            "b1fef4c46f324521bc12e848e65e1a70",
            "1e2d8c065aaf4d54b969c3e75961130e",
            "a7c2307465414d2884b194223d6567a5",
            "4b401c65cc68420790594dba5877501d"
          ]
        },
        "id": "l_NkHmidQe_J",
        "nbgrader": {
          "grade": false,
          "grade_id": "cell-31d81f8c56fa930d",
          "locked": true,
          "schema_version": 3,
          "solution": false,
          "task": false
        },
        "outputId": "f50b1477-2c0b-4ae0-99c4-6310ed141d03",
        "scrolled": false
      },
      "outputs": [
        {
          "name": "stdout",
          "output_type": "stream",
          "text": [
            "Files already downloaded and verified\n",
            "Files already downloaded and verified\n",
            "\n",
            "Shape of an image: torch.Size([3, 32, 32]).\n"
          ]
        },
        {
          "data": {
            "image/png": "[encoded data removed]",
            "text/plain": [
              "<Figure size 1200x800 with 24 Axes>"
            ]
          },
          "metadata": {},
          "output_type": "display_data"
        }
      ],
      "source": [
        "import ssl\n",
        "ssl._create_default_https_context = ssl._create_unverified_context\n",
        "urllib.request.urlopen(\"https://www.cs.toronto.edu/~kriz/cifar-100-python.tar.gz\").read()\n",
        "normalize_transform = transforms.Compose([\n",
        "    transforms.ToTensor(),\n",
        "    transforms.Normalize(0.5, 0.5)\n",
        "])\n",
        "\n",
        "train_data = CIFAR10(root='cifar10/train/', train=True, download=True, transform=normalize_transform)\n",
        "test_data = CIFAR10(root='cifar10/test/', train=False, download=True, transform=normalize_transform)\n",
        "labels = ['airplane', 'automobile', 'bird', 'cat', 'deer', 'dog', 'frog', 'horse', 'ship', 'truck']\n",
        "\n",
        "x, y = train_data[0]  # get an example from the dataset\n",
        "print(f'\\nShape of an image: {x.shape}.')\n",
        "visualize_dataset(train_data)"
      ]
    },
    {
      "cell_type": "markdown",
      "metadata": {
        "id": "TMQH9XDy7YHs"
      },
      "source": [
        "**Defining a general Classifier**"
      ]
    },
    {
      "cell_type": "code",
      "execution_count": 16,
      "metadata": {
        "id": "hUfrUVOhQe_L",
        "nbgrader": {
          "grade": false,
          "grade_id": "cell-7348264e521960a4",
          "locked": true,
          "schema_version": 3,
          "solution": false,
          "task": false
        }
      },
      "outputs": [],
      "source": [
        "def train_classifier(model,\n",
        "                     opt,\n",
        "                     logdir,\n",
        "                     train_data=train_data,\n",
        "                     test_data=test_data,\n",
        "                     batch_size=128,\n",
        "                     n_epochs=50,\n",
        "                     lr_scheduler=None\n",
        "                    ):\n",
        "    \n",
        "    writer = SummaryWriter(f\"{LOG_ROOT}/{logdir}-{time.strftime('%y%m%d_%H%M%S')}\")\n",
        "    layout = {\n",
        "        'Losses': {'losses': ['Multiline', ['loss/train', 'loss/test']]},\n",
        "        'Accuracy': {'accuracy': ['Multiline', ['accuracy/train', 'accuracy/test']]}\n",
        "    }\n",
        "    writer.add_custom_scalars(layout)\n",
        "    \n",
        "    train_loader = DataLoader(train_data, batch_size=batch_size, shuffle=True, num_workers=6)\n",
        "    test_loader = DataLoader(test_data, batch_size=batch_size, shuffle=True, num_workers=6)\n",
        "    \n",
        "    criterion = nn.CrossEntropyLoss()\n",
        "    \n",
        "    start = time.time()\n",
        "    \n",
        "    for epoch in range(n_epochs):\n",
        "        sample_count = 0\n",
        "        loss_sum = 0\n",
        "        correct = 0\n",
        "        n_batches = len(train_loader)\n",
        "        model.train()\n",
        "        for i, (xs, ys) in enumerate(train_loader):\n",
        "            if USE_GPU:\n",
        "                xs = xs.cuda()\n",
        "                ys = ys.cuda()\n",
        "            out = model(xs)\n",
        "            loss = criterion(out, ys)\n",
        "            loss.backward()\n",
        "            opt.step()\n",
        "            opt.zero_grad()\n",
        "            \n",
        "            loss_sum += loss.item() * xs.shape[0]\n",
        "            _, pred = torch.max(out, 1)\n",
        "            correct += (pred == ys).sum().item()\n",
        "            sample_count += xs.shape[0]\n",
        "            print(f'Train epoch {epoch+1}, step {i+1}/{n_batches}', end='    \\r')\n",
        "\n",
        "        train_loss = loss_sum / sample_count\n",
        "        train_accuracy = correct / sample_count\n",
        "        \n",
        "        with torch.no_grad():  # Not storing gradients during testing, decreases memory consumption\n",
        "            sample_count = 0\n",
        "            loss_sum = 0\n",
        "            correct = 0\n",
        "            n_batches = len(test_loader)\n",
        "            model.eval()\n",
        "            for i, (xs, ys) in enumerate(test_loader):\n",
        "                if USE_GPU:\n",
        "                    xs = xs.cuda()\n",
        "                    ys = ys.cuda()\n",
        "                out = model(xs)\n",
        "                loss = criterion(out, ys)\n",
        "                loss_sum += loss.item() * xs.shape[0]\n",
        "                _, pred = torch.max(out, 1)\n",
        "                correct += (pred == ys).sum().item()\n",
        "                sample_count += xs.shape[0]\n",
        "                print(f'Test epoch {epoch+1}, step {i+1}/{n_batches}', end='    \\r')\n",
        "                \n",
        "            test_loss = loss_sum / sample_count\n",
        "            test_accuracy = correct / sample_count\n",
        "        \n",
        "        writer.add_scalar('loss/train', train_loss, epoch+1)\n",
        "        writer.add_scalar('accuracy/train', train_accuracy, epoch+1)\n",
        "        writer.add_scalar('loss/test', test_loss, epoch+1)\n",
        "        writer.add_scalar('accuracy/test', test_accuracy, epoch+1)\n",
        "            \n",
        "        if lr_scheduler is not None:\n",
        "            lr_scheduler.step()\n",
        "            writer.add_scalar('lr', opt.param_groups[0]['lr'], epoch+1)\n",
        "            \n",
        "        print(\n",
        "            f'Epoch {epoch+1} | train loss: {train_loss:.3f}, train accuracy: {train_accuracy:.3f}, ' + \\\n",
        "            f'test loss: {test_loss:.3f}, test accuracy: {test_accuracy:.3f}, ' + \\\n",
        "            f'time: {str(datetime.timedelta(seconds=int(time.time()-start)))}'\n",
        "        )"
      ]
    },
    {
      "cell_type": "markdown",
      "metadata": {
        "id": "vWaG5S807Qxw"
      },
      "source": [
        "**Implementing a Softmax Classifier**"
      ]
    },
    {
      "cell_type": "code",
      "execution_count": 17,
      "metadata": {
        "colab": {
          "base_uri": "https://localhost:8080/"
        },
        "id": "NE9s8_l4Qe_N",
        "nbgrader": {
          "grade": false,
          "grade_id": "cell-5c34f08b3b61750a",
          "locked": true,
          "schema_version": 3,
          "solution": false,
          "task": false
        },
        "outputId": "8f970399-e985-41a7-d252-b39a0e0298c5",
        "scrolled": true
      },
      "outputs": [
        {
          "name": "stdout",
          "output_type": "stream",
          "text": [
            "Epoch 1 | train loss: 1.873, train accuracy: 0.357, test loss: 1.801, test accuracy: 0.384, time: 0:00:25\n",
            "Epoch 2 | train loss: 1.780, train accuracy: 0.394, test loss: 1.768, test accuracy: 0.394, time: 0:00:50\n",
            "Epoch 3 | train loss: 1.751, train accuracy: 0.404, test loss: 1.756, test accuracy: 0.392, time: 0:01:15\n",
            "Epoch 4 | train loss: 1.733, train accuracy: 0.411, test loss: 1.738, test accuracy: 0.401, time: 0:01:40\n",
            "Epoch 5 | train loss: 1.720, train accuracy: 0.415, test loss: 1.736, test accuracy: 0.402, time: 0:02:05\n",
            "Epoch 6 | train loss: 1.710, train accuracy: 0.419, test loss: 1.729, test accuracy: 0.403, time: 0:02:30\n",
            "Epoch 7 | train loss: 1.701, train accuracy: 0.422, test loss: 1.722, test accuracy: 0.409, time: 0:02:55\n",
            "Epoch 8 | train loss: 1.695, train accuracy: 0.424, test loss: 1.721, test accuracy: 0.408, time: 0:03:20\n",
            "Epoch 9 | train loss: 1.690, train accuracy: 0.428, test loss: 1.714, test accuracy: 0.414, time: 0:03:46\n",
            "Epoch 10 | train loss: 1.684, train accuracy: 0.428, test loss: 1.717, test accuracy: 0.408, time: 0:04:11\n",
            "Epoch 11 | train loss: 1.680, train accuracy: 0.431, test loss: 1.713, test accuracy: 0.410, time: 0:04:35\n",
            "Epoch 12 | train loss: 1.677, train accuracy: 0.432, test loss: 1.712, test accuracy: 0.412, time: 0:05:00\n",
            "Epoch 13 | train loss: 1.673, train accuracy: 0.432, test loss: 1.726, test accuracy: 0.402, time: 0:05:25\n",
            "Epoch 14 | train loss: 1.670, train accuracy: 0.433, test loss: 1.712, test accuracy: 0.410, time: 0:05:50\n",
            "Epoch 15 | train loss: 1.667, train accuracy: 0.434, test loss: 1.709, test accuracy: 0.412, time: 0:06:15\n",
            "Epoch 16 | train loss: 1.664, train accuracy: 0.437, test loss: 1.708, test accuracy: 0.411, time: 0:06:39\n",
            "Epoch 17 | train loss: 1.662, train accuracy: 0.437, test loss: 1.713, test accuracy: 0.408, time: 0:07:04\n",
            "Epoch 18 | train loss: 1.660, train accuracy: 0.437, test loss: 1.711, test accuracy: 0.410, time: 0:07:29\n",
            "Epoch 19 | train loss: 1.658, train accuracy: 0.438, test loss: 1.706, test accuracy: 0.412, time: 0:07:54\n",
            "Epoch 20 | train loss: 1.656, train accuracy: 0.440, test loss: 1.709, test accuracy: 0.411, time: 0:08:19\n",
            "Epoch 21 | train loss: 1.654, train accuracy: 0.440, test loss: 1.713, test accuracy: 0.409, time: 0:08:45\n",
            "Epoch 22 | train loss: 1.653, train accuracy: 0.440, test loss: 1.709, test accuracy: 0.415, time: 0:09:11\n",
            "Epoch 23 | train loss: 1.652, train accuracy: 0.440, test loss: 1.712, test accuracy: 0.413, time: 0:09:36\n",
            "Epoch 24 | train loss: 1.649, train accuracy: 0.442, test loss: 1.708, test accuracy: 0.414, time: 0:10:02\n",
            "Epoch 25 | train loss: 1.648, train accuracy: 0.443, test loss: 1.713, test accuracy: 0.411, time: 0:10:29\n",
            "Epoch 26 | train loss: 1.647, train accuracy: 0.443, test loss: 1.709, test accuracy: 0.410, time: 0:10:54\n",
            "Epoch 27 | train loss: 1.646, train accuracy: 0.442, test loss: 1.710, test accuracy: 0.412, time: 0:11:21\n",
            "Epoch 28 | train loss: 1.644, train accuracy: 0.443, test loss: 1.708, test accuracy: 0.410, time: 0:11:47\n",
            "Epoch 29 | train loss: 1.643, train accuracy: 0.443, test loss: 1.712, test accuracy: 0.413, time: 0:12:12\n",
            "Epoch 30 | train loss: 1.642, train accuracy: 0.445, test loss: 1.710, test accuracy: 0.413, time: 0:12:37\n",
            "Epoch 31 | train loss: 1.640, train accuracy: 0.444, test loss: 1.709, test accuracy: 0.409, time: 0:13:03\n",
            "Epoch 32 | train loss: 1.640, train accuracy: 0.446, test loss: 1.708, test accuracy: 0.414, time: 0:13:28\n",
            "Epoch 33 | train loss: 1.639, train accuracy: 0.445, test loss: 1.715, test accuracy: 0.409, time: 0:13:54\n",
            "Epoch 34 | train loss: 1.638, train accuracy: 0.447, test loss: 1.719, test accuracy: 0.411, time: 0:14:19\n",
            "Epoch 35 | train loss: 1.637, train accuracy: 0.446, test loss: 1.711, test accuracy: 0.411, time: 0:14:45\n",
            "Epoch 36 | train loss: 1.636, train accuracy: 0.447, test loss: 1.717, test accuracy: 0.410, time: 0:15:10\n",
            "Epoch 37 | train loss: 1.635, train accuracy: 0.447, test loss: 1.725, test accuracy: 0.408, time: 0:15:35\n",
            "Epoch 38 | train loss: 1.634, train accuracy: 0.447, test loss: 1.722, test accuracy: 0.408, time: 0:16:00\n",
            "Epoch 39 | train loss: 1.633, train accuracy: 0.447, test loss: 1.713, test accuracy: 0.414, time: 0:16:25\n",
            "Epoch 40 | train loss: 1.632, train accuracy: 0.447, test loss: 1.717, test accuracy: 0.409, time: 0:16:50\n",
            "Epoch 41 | train loss: 1.632, train accuracy: 0.448, test loss: 1.714, test accuracy: 0.412, time: 0:17:15\n",
            "Epoch 42 | train loss: 1.631, train accuracy: 0.448, test loss: 1.717, test accuracy: 0.409, time: 0:17:40\n",
            "Epoch 43 | train loss: 1.630, train accuracy: 0.448, test loss: 1.714, test accuracy: 0.413, time: 0:18:05\n",
            "Epoch 44 | train loss: 1.629, train accuracy: 0.451, test loss: 1.716, test accuracy: 0.410, time: 0:18:30\n",
            "Epoch 45 | train loss: 1.628, train accuracy: 0.450, test loss: 1.717, test accuracy: 0.411, time: 0:18:56\n",
            "Epoch 46 | train loss: 1.627, train accuracy: 0.450, test loss: 1.716, test accuracy: 0.409, time: 0:19:21\n",
            "Epoch 47 | train loss: 1.626, train accuracy: 0.450, test loss: 1.718, test accuracy: 0.413, time: 0:19:46\n",
            "Epoch 48 | train loss: 1.626, train accuracy: 0.451, test loss: 1.715, test accuracy: 0.412, time: 0:20:11\n",
            "Epoch 49 | train loss: 1.626, train accuracy: 0.451, test loss: 1.719, test accuracy: 0.410, time: 0:20:36\n",
            "Epoch 50 | train loss: 1.625, train accuracy: 0.451, test loss: 1.718, test accuracy: 0.409, time: 0:21:01\n"
          ]
        }
      ],
      "source": [
        "softmax_regression = nn.Sequential(\n",
        "    nn.Flatten(),\n",
        "    nn.Linear(in_features=3072, out_features=10)\n",
        ")\n",
        "if USE_GPU:\n",
        "    softmax_regression.cuda()\n",
        "\n",
        "opt = optim.SGD(softmax_regression.parameters(), lr=1e-2)\n",
        "train_classifier(softmax_regression, opt, 'softmax_regression')"
      ]
    },
    {
      "cell_type": "markdown",
      "metadata": {
        "id": "d6PFqj4-Ud36"
      },
      "source": [
        "Here we observe that Training curves improve during training, testing curves worsen after ~20 epochs."
      ]
    },
    {
      "cell_type": "markdown",
      "metadata": {
        "id": "R2BG8BrnQe_O",
        "nbgrader": {
          "grade": false,
          "grade_id": "cell-ec4a31aa3b860db5",
          "locked": true,
          "schema_version": 3,
          "solution": false,
          "task": false
        }
      },
      "source": [
        "**Implementing Adam Optimizer**"
      ]
    },
    {
      "cell_type": "code",
      "execution_count": 18,
      "metadata": {
        "colab": {
          "base_uri": "https://localhost:8080/"
        },
        "id": "nuhAk_ByQe_P",
        "nbgrader": {
          "grade": false,
          "grade_id": "cell-645a91d07f56cfbc",
          "locked": true,
          "schema_version": 3,
          "solution": false,
          "task": false
        },
        "outputId": "cd58eab9-2517-40b6-9d76-fa8dbe5b0b8a",
        "scrolled": true
      },
      "outputs": [
        {
          "name": "stdout",
          "output_type": "stream",
          "text": [
            "Epoch 1 | train loss: 1.858, train accuracy: 0.362, test loss: 1.785, test accuracy: 0.390, time: 0:00:24\n",
            "Epoch 2 | train loss: 1.769, train accuracy: 0.397, test loss: 1.757, test accuracy: 0.395, time: 0:00:49\n",
            "Epoch 3 | train loss: 1.741, train accuracy: 0.408, test loss: 1.740, test accuracy: 0.402, time: 0:01:14\n",
            "Epoch 4 | train loss: 1.723, train accuracy: 0.414, test loss: 1.727, test accuracy: 0.405, time: 0:01:39\n",
            "Epoch 5 | train loss: 1.710, train accuracy: 0.421, test loss: 1.726, test accuracy: 0.408, time: 0:02:04\n",
            "Epoch 6 | train loss: 1.701, train accuracy: 0.422, test loss: 1.722, test accuracy: 0.406, time: 0:02:28\n",
            "Epoch 7 | train loss: 1.693, train accuracy: 0.426, test loss: 1.735, test accuracy: 0.399, time: 0:02:53\n",
            "Epoch 8 | train loss: 1.687, train accuracy: 0.429, test loss: 1.720, test accuracy: 0.410, time: 0:03:18\n",
            "Epoch 9 | train loss: 1.682, train accuracy: 0.431, test loss: 1.721, test accuracy: 0.406, time: 0:03:42\n",
            "Epoch 10 | train loss: 1.677, train accuracy: 0.430, test loss: 1.715, test accuracy: 0.410, time: 0:04:07\n",
            "Epoch 11 | train loss: 1.673, train accuracy: 0.432, test loss: 1.720, test accuracy: 0.411, time: 0:04:32\n",
            "Epoch 12 | train loss: 1.669, train accuracy: 0.435, test loss: 1.721, test accuracy: 0.409, time: 0:04:57\n",
            "Epoch 13 | train loss: 1.666, train accuracy: 0.433, test loss: 1.713, test accuracy: 0.410, time: 0:05:22\n",
            "Epoch 14 | train loss: 1.662, train accuracy: 0.438, test loss: 1.719, test accuracy: 0.407, time: 0:05:47\n",
            "Epoch 15 | train loss: 1.659, train accuracy: 0.437, test loss: 1.715, test accuracy: 0.410, time: 0:06:13\n",
            "Epoch 16 | train loss: 1.656, train accuracy: 0.438, test loss: 1.719, test accuracy: 0.408, time: 0:06:38\n",
            "Epoch 17 | train loss: 1.654, train accuracy: 0.438, test loss: 1.714, test accuracy: 0.411, time: 0:07:03\n",
            "Epoch 18 | train loss: 1.652, train accuracy: 0.440, test loss: 1.721, test accuracy: 0.407, time: 0:07:28\n",
            "Epoch 19 | train loss: 1.650, train accuracy: 0.442, test loss: 1.716, test accuracy: 0.407, time: 0:07:54\n",
            "Epoch 20 | train loss: 1.649, train accuracy: 0.443, test loss: 1.716, test accuracy: 0.405, time: 0:08:19\n",
            "Epoch 21 | train loss: 1.647, train accuracy: 0.441, test loss: 1.719, test accuracy: 0.405, time: 0:08:44\n",
            "Epoch 22 | train loss: 1.645, train accuracy: 0.444, test loss: 1.718, test accuracy: 0.406, time: 0:09:09\n",
            "Epoch 23 | train loss: 1.643, train accuracy: 0.444, test loss: 1.718, test accuracy: 0.406, time: 0:09:34\n",
            "Epoch 24 | train loss: 1.642, train accuracy: 0.444, test loss: 1.720, test accuracy: 0.408, time: 0:09:59\n",
            "Epoch 25 | train loss: 1.640, train accuracy: 0.444, test loss: 1.721, test accuracy: 0.404, time: 0:10:24\n",
            "Epoch 26 | train loss: 1.639, train accuracy: 0.446, test loss: 1.722, test accuracy: 0.408, time: 0:10:49\n",
            "Epoch 27 | train loss: 1.637, train accuracy: 0.445, test loss: 1.721, test accuracy: 0.407, time: 0:11:14\n",
            "Epoch 28 | train loss: 1.636, train accuracy: 0.446, test loss: 1.724, test accuracy: 0.405, time: 0:11:39\n",
            "Epoch 29 | train loss: 1.635, train accuracy: 0.446, test loss: 1.721, test accuracy: 0.406, time: 0:12:04\n",
            "Epoch 30 | train loss: 1.634, train accuracy: 0.446, test loss: 1.727, test accuracy: 0.402, time: 0:12:29\n",
            "Epoch 31 | train loss: 1.633, train accuracy: 0.445, test loss: 1.723, test accuracy: 0.405, time: 0:12:54\n",
            "Epoch 32 | train loss: 1.631, train accuracy: 0.447, test loss: 1.719, test accuracy: 0.409, time: 0:13:19\n",
            "Epoch 33 | train loss: 1.630, train accuracy: 0.448, test loss: 1.725, test accuracy: 0.407, time: 0:13:44\n",
            "Epoch 34 | train loss: 1.629, train accuracy: 0.448, test loss: 1.724, test accuracy: 0.408, time: 0:14:09\n",
            "Epoch 35 | train loss: 1.629, train accuracy: 0.448, test loss: 1.732, test accuracy: 0.404, time: 0:14:34\n",
            "Epoch 36 | train loss: 1.628, train accuracy: 0.449, test loss: 1.724, test accuracy: 0.403, time: 0:14:59\n",
            "Epoch 37 | train loss: 1.628, train accuracy: 0.448, test loss: 1.733, test accuracy: 0.400, time: 0:15:24\n",
            "Epoch 38 | train loss: 1.626, train accuracy: 0.449, test loss: 1.724, test accuracy: 0.408, time: 0:15:49\n",
            "Epoch 39 | train loss: 1.625, train accuracy: 0.449, test loss: 1.732, test accuracy: 0.401, time: 0:16:14\n",
            "Epoch 40 | train loss: 1.624, train accuracy: 0.448, test loss: 1.727, test accuracy: 0.407, time: 0:16:39\n",
            "Epoch 41 | train loss: 1.624, train accuracy: 0.450, test loss: 1.732, test accuracy: 0.405, time: 0:17:04\n",
            "Epoch 42 | train loss: 1.622, train accuracy: 0.450, test loss: 1.725, test accuracy: 0.408, time: 0:17:29\n",
            "Epoch 43 | train loss: 1.622, train accuracy: 0.452, test loss: 1.728, test accuracy: 0.401, time: 0:17:54\n",
            "Epoch 44 | train loss: 1.621, train accuracy: 0.451, test loss: 1.734, test accuracy: 0.400, time: 0:18:19\n",
            "Epoch 45 | train loss: 1.620, train accuracy: 0.452, test loss: 1.731, test accuracy: 0.402, time: 0:18:44\n",
            "Epoch 46 | train loss: 1.620, train accuracy: 0.451, test loss: 1.731, test accuracy: 0.401, time: 0:19:09\n",
            "Epoch 47 | train loss: 1.619, train accuracy: 0.452, test loss: 1.732, test accuracy: 0.402, time: 0:19:34\n",
            "Epoch 48 | train loss: 1.618, train accuracy: 0.451, test loss: 1.726, test accuracy: 0.407, time: 0:19:58\n",
            "Epoch 49 | train loss: 1.617, train accuracy: 0.452, test loss: 1.728, test accuracy: 0.404, time: 0:20:23\n",
            "Epoch 50 | train loss: 1.616, train accuracy: 0.453, test loss: 1.732, test accuracy: 0.403, time: 0:20:47\n"
          ]
        }
      ],
      "source": [
        "softmax_regression_adam = nn.Sequential(\n",
        "    nn.Flatten(),\n",
        "    nn.Linear(in_features=3072, out_features=10)\n",
        ")\n",
        "if USE_GPU:\n",
        "    softmax_regression_adam.cuda()\n",
        "    \n",
        "opt = optim.Adam(softmax_regression_adam.parameters(), lr=2e-4)\n",
        "train_classifier(softmax_regression_adam, opt, 'softmax_regression_adam')"
      ]
    },
    {
      "cell_type": "markdown",
      "metadata": {
        "id": "GqSPZWHeatq7"
      },
      "source": [
        "We observe that the difference is not large for such a simple model, but it makes a bigger difference for larger networks."
      ]
    },
    {
      "cell_type": "markdown",
      "metadata": {
        "id": "RpmJi0cCQe_T",
        "nbgrader": {
          "grade": false,
          "grade_id": "cell-53dcad4765f2ab5b",
          "locked": true,
          "schema_version": 3,
          "solution": false,
          "task": false
        }
      },
      "source": [
        "**Multi-Layer Perceptron**\n",
        "\n",
        "Softmax regression has a big limitation: the decision surface between any two classes is a simple hyperplane (\"flat\").\n",
        "\n",
        "The *multi-layer perceptron* (MLP) is a neural network model with additional layer(s) between the input and the logits (so-called hidden layers), with nonlinear activation functions.\n"
      ]
    },
    {
      "cell_type": "code",
      "execution_count": 19,
      "metadata": {
        "colab": {
          "base_uri": "https://localhost:8080/"
        },
        "id": "R1-IDF2xQe_T",
        "nbgrader": {
          "grade": false,
          "grade_id": "cell-1d3f759cb639c7c8",
          "locked": true,
          "schema_version": 3,
          "solution": false,
          "task": false
        },
        "outputId": "7165f3c0-0160-491f-b539-3782c6112375",
        "scrolled": true
      },
      "outputs": [
        {
          "name": "stdout",
          "output_type": "stream",
          "text": [
            "Epoch 1 | train loss: 1.781, train accuracy: 0.383, test loss: 1.700, test accuracy: 0.416, time: 0:00:29\n",
            "Epoch 2 | train loss: 1.640, train accuracy: 0.439, test loss: 1.627, test accuracy: 0.447, time: 0:00:59\n",
            "Epoch 3 | train loss: 1.564, train accuracy: 0.468, test loss: 1.596, test accuracy: 0.452, time: 0:01:28\n",
            "Epoch 4 | train loss: 1.501, train accuracy: 0.490, test loss: 1.553, test accuracy: 0.464, time: 0:01:58\n",
            "Epoch 5 | train loss: 1.439, train accuracy: 0.514, test loss: 1.519, test accuracy: 0.481, time: 0:02:28\n",
            "Epoch 6 | train loss: 1.386, train accuracy: 0.532, test loss: 1.500, test accuracy: 0.488, time: 0:02:57\n",
            "Epoch 7 | train loss: 1.333, train accuracy: 0.552, test loss: 1.480, test accuracy: 0.489, time: 0:03:27\n",
            "Epoch 8 | train loss: 1.286, train accuracy: 0.570, test loss: 1.469, test accuracy: 0.495, time: 0:03:57\n",
            "Epoch 9 | train loss: 1.236, train accuracy: 0.588, test loss: 1.455, test accuracy: 0.500, time: 0:04:27\n",
            "Epoch 10 | train loss: 1.189, train accuracy: 0.608, test loss: 1.461, test accuracy: 0.500, time: 0:04:57\n",
            "Epoch 11 | train loss: 1.144, train accuracy: 0.625, test loss: 1.435, test accuracy: 0.507, time: 0:05:26\n",
            "Epoch 12 | train loss: 1.096, train accuracy: 0.642, test loss: 1.453, test accuracy: 0.507, time: 0:05:56\n",
            "Epoch 13 | train loss: 1.054, train accuracy: 0.659, test loss: 1.443, test accuracy: 0.509, time: 0:06:26\n",
            "Epoch 14 | train loss: 1.013, train accuracy: 0.674, test loss: 1.443, test accuracy: 0.504, time: 0:06:55\n",
            "Epoch 15 | train loss: 0.970, train accuracy: 0.692, test loss: 1.449, test accuracy: 0.506, time: 0:07:25\n",
            "Epoch 16 | train loss: 0.928, train accuracy: 0.707, test loss: 1.447, test accuracy: 0.508, time: 0:07:55\n",
            "Epoch 17 | train loss: 0.889, train accuracy: 0.721, test loss: 1.447, test accuracy: 0.509, time: 0:08:24\n",
            "Epoch 18 | train loss: 0.850, train accuracy: 0.738, test loss: 1.454, test accuracy: 0.508, time: 0:08:54\n",
            "Epoch 19 | train loss: 0.810, train accuracy: 0.752, test loss: 1.468, test accuracy: 0.504, time: 0:09:24\n",
            "Epoch 20 | train loss: 0.776, train accuracy: 0.767, test loss: 1.486, test accuracy: 0.508, time: 0:09:53\n",
            "Epoch 21 | train loss: 0.741, train accuracy: 0.778, test loss: 1.489, test accuracy: 0.506, time: 0:10:23\n",
            "Epoch 22 | train loss: 0.706, train accuracy: 0.791, test loss: 1.489, test accuracy: 0.511, time: 0:10:53\n",
            "Epoch 23 | train loss: 0.672, train accuracy: 0.806, test loss: 1.510, test accuracy: 0.504, time: 0:11:23\n",
            "Epoch 24 | train loss: 0.641, train accuracy: 0.816, test loss: 1.525, test accuracy: 0.503, time: 0:11:53\n",
            "Epoch 25 | train loss: 0.612, train accuracy: 0.830, test loss: 1.523, test accuracy: 0.506, time: 0:12:23\n",
            "Epoch 26 | train loss: 0.579, train accuracy: 0.841, test loss: 1.545, test accuracy: 0.505, time: 0:12:53\n",
            "Epoch 27 | train loss: 0.553, train accuracy: 0.851, test loss: 1.556, test accuracy: 0.503, time: 0:13:24\n",
            "Epoch 28 | train loss: 0.522, train accuracy: 0.863, test loss: 1.562, test accuracy: 0.505, time: 0:13:54\n",
            "Epoch 29 | train loss: 0.497, train accuracy: 0.873, test loss: 1.584, test accuracy: 0.499, time: 0:14:24\n",
            "Epoch 30 | train loss: 0.471, train accuracy: 0.881, test loss: 1.600, test accuracy: 0.502, time: 0:14:54\n",
            "Epoch 31 | train loss: 0.446, train accuracy: 0.889, test loss: 1.624, test accuracy: 0.500, time: 0:15:24\n",
            "Epoch 32 | train loss: 0.422, train accuracy: 0.899, test loss: 1.656, test accuracy: 0.491, time: 0:15:54\n",
            "Epoch 33 | train loss: 0.401, train accuracy: 0.906, test loss: 1.639, test accuracy: 0.501, time: 0:16:24\n",
            "Epoch 34 | train loss: 0.378, train accuracy: 0.912, test loss: 1.668, test accuracy: 0.497, time: 0:16:55\n",
            "Epoch 35 | train loss: 0.357, train accuracy: 0.921, test loss: 1.673, test accuracy: 0.501, time: 0:17:27\n",
            "Epoch 36 | train loss: 0.337, train accuracy: 0.927, test loss: 1.693, test accuracy: 0.495, time: 0:17:58\n",
            "Epoch 37 | train loss: 0.318, train accuracy: 0.934, test loss: 1.718, test accuracy: 0.502, time: 0:18:28\n",
            "Epoch 38 | train loss: 0.300, train accuracy: 0.939, test loss: 1.747, test accuracy: 0.496, time: 0:18:59\n",
            "Epoch 39 | train loss: 0.285, train accuracy: 0.944, test loss: 1.754, test accuracy: 0.496, time: 0:19:30\n",
            "Epoch 40 | train loss: 0.267, train accuracy: 0.949, test loss: 1.760, test accuracy: 0.493, time: 0:20:01\n",
            "Epoch 41 | train loss: 0.252, train accuracy: 0.954, test loss: 1.800, test accuracy: 0.495, time: 0:20:32\n",
            "Epoch 42 | train loss: 0.236, train accuracy: 0.958, test loss: 1.817, test accuracy: 0.494, time: 0:21:03\n",
            "Epoch 43 | train loss: 0.221, train accuracy: 0.962, test loss: 1.834, test accuracy: 0.497, time: 0:21:34\n",
            "Epoch 44 | train loss: 0.208, train accuracy: 0.965, test loss: 1.852, test accuracy: 0.497, time: 0:22:05\n",
            "Epoch 45 | train loss: 0.195, train accuracy: 0.969, test loss: 1.867, test accuracy: 0.495, time: 0:22:35\n",
            "Epoch 46 | train loss: 0.188, train accuracy: 0.970, test loss: 1.887, test accuracy: 0.492, time: 0:23:07\n",
            "Epoch 47 | train loss: 0.172, train accuracy: 0.975, test loss: 1.917, test accuracy: 0.490, time: 0:23:37\n",
            "Epoch 48 | train loss: 0.162, train accuracy: 0.977, test loss: 1.921, test accuracy: 0.492, time: 0:24:08\n",
            "Epoch 49 | train loss: 0.150, train accuracy: 0.981, test loss: 1.958, test accuracy: 0.489, time: 0:24:39\n",
            "Epoch 50 | train loss: 0.143, train accuracy: 0.981, test loss: 1.988, test accuracy: 0.488, time: 0:25:10\n"
          ]
        }
      ],
      "source": [
        "tanh_mlp = nn.Sequential(\n",
        "    nn.Flatten(),\n",
        "    nn.Linear(in_features=3072, out_features=512),\n",
        "    nn.Tanh(),\n",
        "    nn.Linear(in_features=512, out_features=10)\n",
        ")\n",
        "if USE_GPU:\n",
        "    tanh_mlp.cuda()\n",
        "    \n",
        "opt = optim.Adam(tanh_mlp.parameters(), lr=2e-4)\n",
        "train_classifier(tanh_mlp, opt, f'tanh_mlp')"
      ]
    },
    {
      "cell_type": "markdown",
      "metadata": {
        "id": "AdHhZo90Qe_U",
        "nbgrader": {
          "grade": true,
          "grade_id": "cell-9a16b9da4520bc8b",
          "locked": false,
          "points": 0,
          "schema_version": 3,
          "solution": true,
          "task": false
        }
      },
      "source": [
        "The test accuracy gets much better compared to the previous model. The train accuracy goes close to 1, but the test accuracy starts to decrease after about 20 epochs, thus the model overfits to the training data.\n",
        "\n",
        "After 20 epochs, the test loss starts to worsen and after 40 epochs the it is even lower compared to the initialized model. In contrast, the validation accuracy decreases only by a few percent. The latter only counts the number of correctly classified classes, so if the model predicts the correct class with confidence 0.11 and all others with a slightly lower confidence, the accuracy can still be high. The cross-entropy loss however punishes low confidences."
      ]
    },
    {
      "cell_type": "markdown",
      "metadata": {
        "id": "7pk3K0JhQe_V",
        "nbgrader": {
          "grade": false,
          "grade_id": "cell-16d91ae3e3806a98",
          "locked": true,
          "schema_version": 3,
          "solution": false,
          "task": false
        }
      },
      "source": [
        "**Data Augmentation**\n",
        "\n",
        "To avoid this effect, we can use data augmentation. By applying small changes to the training samples, we can virtually increase the size of the dataset such that the model cannot memorize training samples as easily.\n"
      ]
    },
    {
      "cell_type": "code",
      "execution_count": 20,
      "metadata": {
        "colab": {
          "base_uri": "https://localhost:8080/",
          "height": 602
        },
        "id": "MGha1SdQQe_V",
        "nbgrader": {
          "grade": true,
          "grade_id": "cell-4158553d60385578",
          "locked": false,
          "points": 4,
          "schema_version": 3,
          "solution": true,
          "task": false
        },
        "outputId": "bd6073cc-7b7b-418d-b41d-3c63a3f0c049"
      },
      "outputs": [
        {
          "name": "stdout",
          "output_type": "stream",
          "text": [
            "Files already downloaded and verified\n"
          ]
        },
        {
          "name": "stderr",
          "output_type": "stream",
          "text": [
            "Exception ignored in: <function _MultiProcessingDataLoaderIter.__del__ at 0x000002DC4BDC37F0>\n",
            "Traceback (most recent call last):\n",
            "  File \"c:\\Users\\Shaunak Kanikar\\AppData\\Local\\Programs\\Python\\Python310\\lib\\site-packages\\torch\\utils\\data\\dataloader.py\", line 1466, in __del__\n",
            "    self._shutdown_workers()\n",
            "  File \"c:\\Users\\Shaunak Kanikar\\AppData\\Local\\Programs\\Python\\Python310\\lib\\site-packages\\torch\\utils\\data\\dataloader.py\", line 1424, in _shutdown_workers\n",
            "    if self._persistent_workers or self._workers_status[worker_id]:\n",
            "AttributeError: '_MultiProcessingDataLoaderIter' object has no attribute '_workers_status'\n"
          ]
        },
        {
          "data": {
            "image/png": "[encoded data removed]",
            "text/plain": [
              "<Figure size 1200x800 with 24 Axes>"
            ]
          },
          "metadata": {},
          "output_type": "display_data"
        }
      ],
      "source": [
        "augment_transform = transforms.Compose([\n",
        "    transforms.RandomAffine(degrees=0, translate=(0.1, 0.1), scale=(0.9, 1.1)),\n",
        "    transforms.RandomHorizontalFlip()\n",
        "])\n",
        "augmented_train_data = CIFAR10(root='cifar10/train/', train=True, download=True,\n",
        "                               transform=transforms.Compose([augment_transform, normalize_transform]))\n",
        "visualize_dataset(augmented_train_data)"
      ]
    },
    {
      "cell_type": "code",
      "execution_count": 21,
      "metadata": {
        "colab": {
          "base_uri": "https://localhost:8080/"
        },
        "id": "kqAup5FdQe_W",
        "nbgrader": {
          "grade": false,
          "grade_id": "cell-17fa5a99f79769c6",
          "locked": true,
          "schema_version": 3,
          "solution": false,
          "task": false
        },
        "outputId": "cbba117e-7516-4f74-cf52-cca28d4299e7",
        "scrolled": true
      },
      "outputs": [
        {
          "name": "stdout",
          "output_type": "stream",
          "text": [
            "Epoch 1 | train loss: 1.880, train accuracy: 0.333, test loss: 1.780, test accuracy: 0.380, time: 0:00:31\n",
            "Epoch 2 | train loss: 1.751, train accuracy: 0.383, test loss: 1.753, test accuracy: 0.391, time: 0:01:03\n",
            "Epoch 3 | train loss: 1.684, train accuracy: 0.406, test loss: 1.712, test accuracy: 0.409, time: 0:01:34\n",
            "Epoch 4 | train loss: 1.639, train accuracy: 0.421, test loss: 1.691, test accuracy: 0.415, time: 0:02:06\n",
            "Epoch 5 | train loss: 1.598, train accuracy: 0.434, test loss: 1.680, test accuracy: 0.420, time: 0:02:37\n",
            "Epoch 6 | train loss: 1.570, train accuracy: 0.447, test loss: 1.659, test accuracy: 0.424, time: 0:03:09\n",
            "Epoch 7 | train loss: 1.546, train accuracy: 0.454, test loss: 1.642, test accuracy: 0.428, time: 0:03:41\n",
            "Epoch 8 | train loss: 1.518, train accuracy: 0.462, test loss: 1.620, test accuracy: 0.442, time: 0:04:12\n",
            "Epoch 9 | train loss: 1.502, train accuracy: 0.470, test loss: 1.610, test accuracy: 0.443, time: 0:04:44\n",
            "Epoch 10 | train loss: 1.485, train accuracy: 0.477, test loss: 1.591, test accuracy: 0.454, time: 0:05:16\n",
            "Epoch 11 | train loss: 1.470, train accuracy: 0.484, test loss: 1.585, test accuracy: 0.452, time: 0:05:47\n",
            "Epoch 12 | train loss: 1.455, train accuracy: 0.488, test loss: 1.589, test accuracy: 0.443, time: 0:06:19\n",
            "Epoch 13 | train loss: 1.442, train accuracy: 0.491, test loss: 1.566, test accuracy: 0.462, time: 0:06:50\n",
            "Epoch 14 | train loss: 1.428, train accuracy: 0.493, test loss: 1.568, test accuracy: 0.457, time: 0:07:21\n",
            "Epoch 15 | train loss: 1.419, train accuracy: 0.498, test loss: 1.552, test accuracy: 0.466, time: 0:07:52\n",
            "Epoch 16 | train loss: 1.409, train accuracy: 0.504, test loss: 1.546, test accuracy: 0.469, time: 0:08:22\n",
            "Epoch 17 | train loss: 1.405, train accuracy: 0.502, test loss: 1.533, test accuracy: 0.472, time: 0:08:53\n",
            "Epoch 18 | train loss: 1.391, train accuracy: 0.507, test loss: 1.530, test accuracy: 0.473, time: 0:09:23\n",
            "Epoch 19 | train loss: 1.384, train accuracy: 0.512, test loss: 1.535, test accuracy: 0.468, time: 0:09:54\n",
            "Epoch 20 | train loss: 1.376, train accuracy: 0.514, test loss: 1.527, test accuracy: 0.481, time: 0:10:25\n",
            "Epoch 21 | train loss: 1.370, train accuracy: 0.516, test loss: 1.515, test accuracy: 0.478, time: 0:10:55\n",
            "Epoch 22 | train loss: 1.365, train accuracy: 0.516, test loss: 1.512, test accuracy: 0.478, time: 0:11:26\n",
            "Epoch 23 | train loss: 1.362, train accuracy: 0.518, test loss: 1.498, test accuracy: 0.484, time: 0:11:56\n",
            "Epoch 24 | train loss: 1.350, train accuracy: 0.524, test loss: 1.507, test accuracy: 0.483, time: 0:12:27\n",
            "Epoch 25 | train loss: 1.348, train accuracy: 0.521, test loss: 1.497, test accuracy: 0.485, time: 0:12:57\n",
            "Epoch 26 | train loss: 1.344, train accuracy: 0.525, test loss: 1.497, test accuracy: 0.488, time: 0:13:28\n",
            "Epoch 27 | train loss: 1.334, train accuracy: 0.529, test loss: 1.492, test accuracy: 0.486, time: 0:13:58\n",
            "Epoch 28 | train loss: 1.332, train accuracy: 0.529, test loss: 1.468, test accuracy: 0.492, time: 0:14:29\n",
            "Epoch 29 | train loss: 1.321, train accuracy: 0.530, test loss: 1.468, test accuracy: 0.491, time: 0:14:59\n",
            "Epoch 30 | train loss: 1.322, train accuracy: 0.531, test loss: 1.480, test accuracy: 0.489, time: 0:15:30\n",
            "Epoch 31 | train loss: 1.316, train accuracy: 0.534, test loss: 1.468, test accuracy: 0.492, time: 0:16:01\n",
            "Epoch 32 | train loss: 1.313, train accuracy: 0.538, test loss: 1.475, test accuracy: 0.491, time: 0:16:32\n",
            "Epoch 33 | train loss: 1.313, train accuracy: 0.535, test loss: 1.453, test accuracy: 0.495, time: 0:17:02\n",
            "Epoch 34 | train loss: 1.306, train accuracy: 0.539, test loss: 1.445, test accuracy: 0.498, time: 0:17:33\n",
            "Epoch 35 | train loss: 1.302, train accuracy: 0.538, test loss: 1.447, test accuracy: 0.503, time: 0:18:03\n",
            "Epoch 36 | train loss: 1.296, train accuracy: 0.541, test loss: 1.449, test accuracy: 0.502, time: 0:18:33\n",
            "Epoch 37 | train loss: 1.296, train accuracy: 0.541, test loss: 1.453, test accuracy: 0.499, time: 0:19:04\n",
            "Epoch 38 | train loss: 1.292, train accuracy: 0.540, test loss: 1.444, test accuracy: 0.501, time: 0:19:34\n",
            "Epoch 39 | train loss: 1.294, train accuracy: 0.541, test loss: 1.461, test accuracy: 0.502, time: 0:20:05\n",
            "Epoch 40 | train loss: 1.285, train accuracy: 0.546, test loss: 1.445, test accuracy: 0.499, time: 0:20:36\n",
            "Epoch 41 | train loss: 1.286, train accuracy: 0.544, test loss: 1.436, test accuracy: 0.499, time: 0:21:06\n",
            "Epoch 42 | train loss: 1.278, train accuracy: 0.547, test loss: 1.417, test accuracy: 0.513, time: 0:21:37\n",
            "Epoch 43 | train loss: 1.279, train accuracy: 0.546, test loss: 1.432, test accuracy: 0.503, time: 0:22:08\n",
            "Epoch 44 | train loss: 1.274, train accuracy: 0.548, test loss: 1.407, test accuracy: 0.513, time: 0:22:38\n",
            "Epoch 45 | train loss: 1.271, train accuracy: 0.549, test loss: 1.432, test accuracy: 0.507, time: 0:23:09\n",
            "Epoch 46 | train loss: 1.270, train accuracy: 0.549, test loss: 1.421, test accuracy: 0.511, time: 0:23:39\n",
            "Epoch 47 | train loss: 1.265, train accuracy: 0.553, test loss: 1.427, test accuracy: 0.510, time: 0:24:10\n",
            "Epoch 48 | train loss: 1.265, train accuracy: 0.551, test loss: 1.411, test accuracy: 0.508, time: 0:24:40\n",
            "Epoch 49 | train loss: 1.259, train accuracy: 0.556, test loss: 1.399, test accuracy: 0.517, time: 0:25:11\n",
            "Epoch 50 | train loss: 1.257, train accuracy: 0.555, test loss: 1.421, test accuracy: 0.511, time: 0:25:42\n"
          ]
        }
      ],
      "source": [
        "tanh_mlp = nn.Sequential(\n",
        "    nn.Flatten(),\n",
        "    nn.Linear(in_features=3072, out_features=512),\n",
        "    nn.Tanh(),\n",
        "    nn.Linear(in_features=512, out_features=10)\n",
        ")\n",
        "if USE_GPU:\n",
        "    tanh_mlp.cuda()\n",
        "    \n",
        "opt = optim.Adam(tanh_mlp.parameters(), lr=2e-4)\n",
        "train_classifier(tanh_mlp, opt, f'tanh_mlp_augmented', train_data=augmented_train_data)"
      ]
    },
    {
      "cell_type": "markdown",
      "metadata": {
        "id": "K9krAcatQe_X",
        "nbgrader": {
          "grade": true,
          "grade_id": "cell-d1b52278a5587b93",
          "locked": false,
          "points": 0,
          "schema_version": 3,
          "solution": true,
          "task": false
        }
      },
      "source": [
        "Training and testing loss/accuracy are now much closer. Testing accuracy gets slightly better."
      ]
    },
    {
      "cell_type": "markdown",
      "metadata": {
        "id": "arHldvulQe_X",
        "nbgrader": {
          "grade": false,
          "grade_id": "cell-52198a15ed79a2ee",
          "locked": true,
          "schema_version": 3,
          "solution": false,
          "task": false
        }
      },
      "source": [
        "\n",
        "**Training MLP with the same architecture as above which uses ReLU instead of tanh as the activation.**"
      ]
    },
    {
      "cell_type": "code",
      "execution_count": 22,
      "metadata": {
        "colab": {
          "base_uri": "https://localhost:8080/"
        },
        "id": "bfIm89nAQe_Y",
        "nbgrader": {
          "grade": true,
          "grade_id": "cell-209c6c6b658fdc85",
          "locked": false,
          "points": 2,
          "schema_version": 3,
          "solution": true,
          "task": false
        },
        "outputId": "7e0f0357-900f-462a-fb00-e8295ce28cef",
        "scrolled": true
      },
      "outputs": [
        {
          "name": "stdout",
          "output_type": "stream",
          "text": [
            "Epoch 1 | train loss: 1.792, train accuracy: 0.363, test loss: 1.604, test accuracy: 0.438, time: 0:00:30\n",
            "Epoch 2 | train loss: 1.632, train accuracy: 0.423, test loss: 1.521, test accuracy: 0.465, time: 0:01:01\n",
            "Epoch 3 | train loss: 1.570, train accuracy: 0.447, test loss: 1.479, test accuracy: 0.486, time: 0:01:31\n",
            "Epoch 4 | train loss: 1.526, train accuracy: 0.463, test loss: 1.448, test accuracy: 0.498, time: 0:02:02\n",
            "Epoch 5 | train loss: 1.496, train accuracy: 0.472, test loss: 1.437, test accuracy: 0.498, time: 0:02:33\n",
            "Epoch 6 | train loss: 1.476, train accuracy: 0.482, test loss: 1.424, test accuracy: 0.507, time: 0:03:04\n",
            "Epoch 7 | train loss: 1.456, train accuracy: 0.486, test loss: 1.397, test accuracy: 0.512, time: 0:03:34\n",
            "Epoch 8 | train loss: 1.436, train accuracy: 0.491, test loss: 1.393, test accuracy: 0.508, time: 0:04:05\n",
            "Epoch 9 | train loss: 1.421, train accuracy: 0.498, test loss: 1.367, test accuracy: 0.522, time: 0:04:35\n",
            "Epoch 10 | train loss: 1.409, train accuracy: 0.504, test loss: 1.364, test accuracy: 0.524, time: 0:05:06\n",
            "Epoch 11 | train loss: 1.398, train accuracy: 0.506, test loss: 1.348, test accuracy: 0.529, time: 0:05:36\n",
            "Epoch 12 | train loss: 1.387, train accuracy: 0.512, test loss: 1.350, test accuracy: 0.529, time: 0:06:07\n",
            "Epoch 13 | train loss: 1.377, train accuracy: 0.514, test loss: 1.340, test accuracy: 0.532, time: 0:06:38\n",
            "Epoch 14 | train loss: 1.371, train accuracy: 0.515, test loss: 1.349, test accuracy: 0.527, time: 0:07:08\n",
            "Epoch 15 | train loss: 1.360, train accuracy: 0.520, test loss: 1.324, test accuracy: 0.539, time: 0:07:39\n",
            "Epoch 16 | train loss: 1.354, train accuracy: 0.524, test loss: 1.321, test accuracy: 0.535, time: 0:08:09\n",
            "Epoch 17 | train loss: 1.343, train accuracy: 0.525, test loss: 1.333, test accuracy: 0.535, time: 0:08:40\n",
            "Epoch 18 | train loss: 1.336, train accuracy: 0.529, test loss: 1.306, test accuracy: 0.544, time: 0:09:11\n",
            "Epoch 19 | train loss: 1.326, train accuracy: 0.532, test loss: 1.295, test accuracy: 0.550, time: 0:09:41\n",
            "Epoch 20 | train loss: 1.323, train accuracy: 0.533, test loss: 1.302, test accuracy: 0.543, time: 0:10:12\n",
            "Epoch 21 | train loss: 1.318, train accuracy: 0.536, test loss: 1.292, test accuracy: 0.547, time: 0:10:42\n",
            "Epoch 22 | train loss: 1.310, train accuracy: 0.541, test loss: 1.288, test accuracy: 0.547, time: 0:11:13\n",
            "Epoch 23 | train loss: 1.305, train accuracy: 0.544, test loss: 1.292, test accuracy: 0.547, time: 0:11:44\n",
            "Epoch 24 | train loss: 1.304, train accuracy: 0.542, test loss: 1.265, test accuracy: 0.557, time: 0:12:14\n",
            "Epoch 25 | train loss: 1.296, train accuracy: 0.546, test loss: 1.267, test accuracy: 0.559, time: 0:12:45\n",
            "Epoch 26 | train loss: 1.287, train accuracy: 0.545, test loss: 1.268, test accuracy: 0.551, time: 0:13:16\n",
            "Epoch 27 | train loss: 1.282, train accuracy: 0.550, test loss: 1.267, test accuracy: 0.552, time: 0:13:46\n",
            "Epoch 28 | train loss: 1.278, train accuracy: 0.552, test loss: 1.258, test accuracy: 0.558, time: 0:14:17\n",
            "Epoch 29 | train loss: 1.274, train accuracy: 0.551, test loss: 1.259, test accuracy: 0.560, time: 0:14:47\n",
            "Epoch 30 | train loss: 1.270, train accuracy: 0.552, test loss: 1.245, test accuracy: 0.564, time: 0:15:18\n",
            "Epoch 31 | train loss: 1.263, train accuracy: 0.557, test loss: 1.270, test accuracy: 0.554, time: 0:15:49\n",
            "Epoch 32 | train loss: 1.258, train accuracy: 0.560, test loss: 1.257, test accuracy: 0.562, time: 0:16:19\n",
            "Epoch 33 | train loss: 1.258, train accuracy: 0.557, test loss: 1.242, test accuracy: 0.567, time: 0:16:50\n",
            "Epoch 34 | train loss: 1.252, train accuracy: 0.558, test loss: 1.260, test accuracy: 0.558, time: 0:17:20\n",
            "Epoch 35 | train loss: 1.245, train accuracy: 0.564, test loss: 1.236, test accuracy: 0.567, time: 0:17:51\n",
            "Epoch 36 | train loss: 1.244, train accuracy: 0.564, test loss: 1.228, test accuracy: 0.577, time: 0:18:22\n",
            "Epoch 37 | train loss: 1.245, train accuracy: 0.564, test loss: 1.236, test accuracy: 0.568, time: 0:18:52\n",
            "Epoch 38 | train loss: 1.237, train accuracy: 0.567, test loss: 1.232, test accuracy: 0.570, time: 0:19:23\n",
            "Epoch 39 | train loss: 1.235, train accuracy: 0.567, test loss: 1.233, test accuracy: 0.574, time: 0:19:53\n",
            "Epoch 40 | train loss: 1.226, train accuracy: 0.570, test loss: 1.232, test accuracy: 0.570, time: 0:20:24\n",
            "Epoch 41 | train loss: 1.229, train accuracy: 0.571, test loss: 1.238, test accuracy: 0.567, time: 0:20:54\n",
            "Epoch 42 | train loss: 1.227, train accuracy: 0.568, test loss: 1.223, test accuracy: 0.574, time: 0:21:25\n",
            "Epoch 43 | train loss: 1.227, train accuracy: 0.568, test loss: 1.220, test accuracy: 0.572, time: 0:21:56\n",
            "Epoch 44 | train loss: 1.220, train accuracy: 0.573, test loss: 1.229, test accuracy: 0.574, time: 0:22:26\n",
            "Epoch 45 | train loss: 1.216, train accuracy: 0.572, test loss: 1.231, test accuracy: 0.563, time: 0:22:57\n",
            "Epoch 46 | train loss: 1.216, train accuracy: 0.573, test loss: 1.226, test accuracy: 0.573, time: 0:23:28\n",
            "Epoch 47 | train loss: 1.214, train accuracy: 0.572, test loss: 1.216, test accuracy: 0.577, time: 0:23:58\n",
            "Epoch 48 | train loss: 1.215, train accuracy: 0.575, test loss: 1.210, test accuracy: 0.578, time: 0:24:29\n",
            "Epoch 49 | train loss: 1.208, train accuracy: 0.575, test loss: 1.230, test accuracy: 0.571, time: 0:24:59\n",
            "Epoch 50 | train loss: 1.206, train accuracy: 0.575, test loss: 1.234, test accuracy: 0.572, time: 0:25:30\n"
          ]
        }
      ],
      "source": [
        "relu_mlp = nn.Sequential(\n",
        "    nn.Flatten(),\n",
        "    nn.Linear(in_features=3072, out_features=512),\n",
        "    nn.ReLU(),\n",
        "    nn.Linear(in_features=512, out_features=10)\n",
        ")\n",
        "if USE_GPU:\n",
        "    relu_mlp.cuda()\n",
        "\n",
        "    \n",
        "opt = optim.Adam(relu_mlp.parameters(), lr=2e-4)\n",
        "train_classifier(relu_mlp, opt, 'relu_mlp', train_data=augmented_train_data)"
      ]
    },
    {
      "cell_type": "markdown",
      "metadata": {
        "id": "SfQOJG6FQe_Z",
        "nbgrader": {
          "grade": true,
          "grade_id": "cell-e96f4ec268fbbe6c",
          "locked": false,
          "points": 0,
          "schema_version": 3,
          "solution": true
        }
      },
      "source": [
        "The results again get a bit better. Due to the linear behaviour of ReLU for positive values, it has less issues with vanishing gradients."
      ]
    },
    {
      "cell_type": "markdown",
      "metadata": {
        "id": "YE8siYtoQe_Z",
        "nbgrader": {
          "grade": false,
          "grade_id": "cell-3c893def9eef0d29",
          "locked": true,
          "schema_version": 3,
          "solution": false,
          "task": false
        }
      },
      "source": [
        "**Building a simple Convolutional Neural Network (CNN)**"
      ]
    },
    {
      "cell_type": "code",
      "execution_count": 23,
      "metadata": {
        "colab": {
          "base_uri": "https://localhost:8080/"
        },
        "id": "Oh2Qjbc2Qe_a",
        "nbgrader": {
          "grade": false,
          "grade_id": "cell-d01c8cd05d41bef2",
          "locked": true,
          "schema_version": 3,
          "solution": false,
          "task": false
        },
        "outputId": "aa428479-1f37-4a34-9c8b-340f996d6863",
        "scrolled": true
      },
      "outputs": [
        {
          "name": "stdout",
          "output_type": "stream",
          "text": [
            "Epoch 1 | train loss: 1.553, train accuracy: 0.441, test loss: 1.226, test accuracy: 0.572, time: 0:01:01\n",
            "Epoch 2 | train loss: 1.238, train accuracy: 0.562, test loss: 1.049, test accuracy: 0.635, time: 0:02:03\n",
            "Epoch 3 | train loss: 1.102, train accuracy: 0.611, test loss: 0.943, test accuracy: 0.673, time: 0:03:05\n",
            "Epoch 4 | train loss: 1.029, train accuracy: 0.640, test loss: 0.908, test accuracy: 0.682, time: 0:04:07\n",
            "Epoch 5 | train loss: 0.981, train accuracy: 0.659, test loss: 0.896, test accuracy: 0.692, time: 0:05:09\n",
            "Epoch 6 | train loss: 0.949, train accuracy: 0.668, test loss: 0.860, test accuracy: 0.703, time: 0:06:11\n",
            "Epoch 7 | train loss: 0.923, train accuracy: 0.677, test loss: 0.904, test accuracy: 0.682, time: 0:07:14\n",
            "Epoch 8 | train loss: 0.899, train accuracy: 0.686, test loss: 0.834, test accuracy: 0.711, time: 0:08:17\n",
            "Epoch 9 | train loss: 0.874, train accuracy: 0.697, test loss: 0.784, test accuracy: 0.732, time: 0:09:19\n",
            "Epoch 10 | train loss: 0.853, train accuracy: 0.702, test loss: 0.784, test accuracy: 0.736, time: 0:10:21\n",
            "Epoch 11 | train loss: 0.846, train accuracy: 0.707, test loss: 0.819, test accuracy: 0.716, time: 0:11:23\n",
            "Epoch 12 | train loss: 0.822, train accuracy: 0.715, test loss: 0.831, test accuracy: 0.713, time: 0:12:25\n",
            "Epoch 13 | train loss: 0.814, train accuracy: 0.717, test loss: 0.764, test accuracy: 0.738, time: 0:13:27\n",
            "Epoch 14 | train loss: 0.797, train accuracy: 0.724, test loss: 0.760, test accuracy: 0.739, time: 0:14:29\n",
            "Epoch 15 | train loss: 0.792, train accuracy: 0.726, test loss: 0.747, test accuracy: 0.743, time: 0:15:32\n",
            "Epoch 16 | train loss: 0.780, train accuracy: 0.730, test loss: 0.756, test accuracy: 0.743, time: 0:16:34\n",
            "Epoch 17 | train loss: 0.774, train accuracy: 0.732, test loss: 0.733, test accuracy: 0.749, time: 0:17:36\n",
            "Epoch 18 | train loss: 0.761, train accuracy: 0.735, test loss: 0.724, test accuracy: 0.755, time: 0:18:38\n",
            "Epoch 19 | train loss: 0.753, train accuracy: 0.740, test loss: 0.709, test accuracy: 0.758, time: 0:19:41\n",
            "Epoch 20 | train loss: 0.746, train accuracy: 0.744, test loss: 0.729, test accuracy: 0.750, time: 0:20:43\n",
            "Epoch 21 | train loss: 0.738, train accuracy: 0.746, test loss: 0.709, test accuracy: 0.761, time: 0:21:45\n",
            "Epoch 22 | train loss: 0.728, train accuracy: 0.749, test loss: 0.731, test accuracy: 0.752, time: 0:22:47\n",
            "Epoch 23 | train loss: 0.723, train accuracy: 0.752, test loss: 0.720, test accuracy: 0.758, time: 0:23:49\n",
            "Epoch 24 | train loss: 0.718, train accuracy: 0.753, test loss: 0.687, test accuracy: 0.767, time: 0:24:51\n",
            "Epoch 25 | train loss: 0.708, train accuracy: 0.755, test loss: 0.687, test accuracy: 0.769, time: 0:25:53\n",
            "Epoch 26 | train loss: 0.710, train accuracy: 0.755, test loss: 0.705, test accuracy: 0.763, time: 0:26:56\n",
            "Epoch 27 | train loss: 0.701, train accuracy: 0.756, test loss: 0.674, test accuracy: 0.771, time: 0:27:58\n",
            "Epoch 28 | train loss: 0.692, train accuracy: 0.761, test loss: 0.714, test accuracy: 0.757, time: 0:29:01\n",
            "Epoch 29 | train loss: 0.690, train accuracy: 0.761, test loss: 0.661, test accuracy: 0.776, time: 0:30:03\n",
            "Epoch 30 | train loss: 0.683, train accuracy: 0.762, test loss: 0.688, test accuracy: 0.767, time: 0:31:05\n",
            "Epoch 31 | train loss: 0.681, train accuracy: 0.765, test loss: 0.665, test accuracy: 0.775, time: 0:32:07\n",
            "Epoch 32 | train loss: 0.675, train accuracy: 0.764, test loss: 0.667, test accuracy: 0.774, time: 0:33:09\n",
            "Epoch 33 | train loss: 0.672, train accuracy: 0.770, test loss: 0.672, test accuracy: 0.771, time: 0:34:12\n",
            "Epoch 34 | train loss: 0.675, train accuracy: 0.768, test loss: 0.675, test accuracy: 0.773, time: 0:35:14\n",
            "Epoch 35 | train loss: 0.666, train accuracy: 0.771, test loss: 0.651, test accuracy: 0.779, time: 0:36:16\n",
            "Epoch 36 | train loss: 0.659, train accuracy: 0.771, test loss: 0.669, test accuracy: 0.773, time: 0:37:18\n",
            "Epoch 37 | train loss: 0.654, train accuracy: 0.773, test loss: 0.641, test accuracy: 0.784, time: 0:38:20\n",
            "Epoch 38 | train loss: 0.650, train accuracy: 0.773, test loss: 0.674, test accuracy: 0.777, time: 0:39:22\n",
            "Epoch 39 | train loss: 0.654, train accuracy: 0.774, test loss: 0.653, test accuracy: 0.783, time: 0:40:24\n",
            "Epoch 40 | train loss: 0.651, train accuracy: 0.775, test loss: 0.655, test accuracy: 0.779, time: 0:41:26\n",
            "Epoch 41 | train loss: 0.646, train accuracy: 0.777, test loss: 0.645, test accuracy: 0.780, time: 0:42:28\n",
            "Epoch 42 | train loss: 0.647, train accuracy: 0.775, test loss: 0.646, test accuracy: 0.785, time: 0:43:30\n",
            "Epoch 43 | train loss: 0.640, train accuracy: 0.777, test loss: 0.642, test accuracy: 0.785, time: 0:44:32\n",
            "Epoch 44 | train loss: 0.633, train accuracy: 0.780, test loss: 0.652, test accuracy: 0.782, time: 0:45:34\n",
            "Epoch 45 | train loss: 0.638, train accuracy: 0.780, test loss: 0.634, test accuracy: 0.786, time: 0:46:36\n",
            "Epoch 46 | train loss: 0.628, train accuracy: 0.783, test loss: 0.634, test accuracy: 0.790, time: 0:47:38\n",
            "Epoch 47 | train loss: 0.631, train accuracy: 0.782, test loss: 0.643, test accuracy: 0.781, time: 0:48:40\n",
            "Epoch 48 | train loss: 0.630, train accuracy: 0.781, test loss: 0.642, test accuracy: 0.784, time: 0:49:41\n",
            "Epoch 49 | train loss: 0.621, train accuracy: 0.786, test loss: 0.655, test accuracy: 0.782, time: 0:50:43\n",
            "Epoch 50 | train loss: 0.619, train accuracy: 0.785, test loss: 0.639, test accuracy: 0.786, time: 0:51:45\n"
          ]
        }
      ],
      "source": [
        "cnn = nn.Sequential(\n",
        "    nn.Conv2d(in_channels=3, out_channels=64, kernel_size=3, padding=1),\n",
        "    nn.ReLU(),\n",
        "    nn.MaxPool2d(kernel_size=2, stride=2),\n",
        "    nn.Conv2d(in_channels=64, out_channels=64, kernel_size=3, padding=1),\n",
        "    nn.ReLU(),\n",
        "    nn.MaxPool2d(kernel_size=2, stride=2),\n",
        "    nn.Flatten(),\n",
        "    nn.Linear(in_features=4096, out_features=10)\n",
        ")\n",
        "if USE_GPU:\n",
        "    cnn.cuda()\n",
        "\n",
        "opt = optim.Adam(cnn.parameters(), lr=1e-3)\n",
        "train_classifier(cnn, opt, 'cnn', train_data=augmented_train_data)"
      ]
    },
    {
      "cell_type": "markdown",
      "metadata": {
        "id": "QJR70KYdQe_b",
        "nbgrader": {
          "grade": true,
          "grade_id": "cell-e6010db8bc2020df",
          "locked": false,
          "points": 0,
          "schema_version": 3,
          "solution": true
        }
      },
      "source": [
        "The accuracy improved significantly, but the training time increased."
      ]
    },
    {
      "cell_type": "markdown",
      "metadata": {
        "id": "6v1ASnFNQe_e",
        "nbgrader": {
          "grade": false,
          "grade_id": "cell-959a911a2a175121",
          "locked": true,
          "schema_version": 3,
          "solution": false,
          "task": false
        }
      },
      "source": [
        "**Batch Normalization**\n"
      ]
    },
    {
      "cell_type": "code",
      "execution_count": 24,
      "metadata": {
        "colab": {
          "base_uri": "https://localhost:8080/"
        },
        "id": "rXb9-V9BQe_f",
        "nbgrader": {
          "grade": true,
          "grade_id": "cell-83b754b10f9a5f09",
          "locked": false,
          "points": 3,
          "schema_version": 3,
          "solution": true
        },
        "outputId": "1e20fad9-bbdc-46b9-e396-c726789b116c",
        "scrolled": true
      },
      "outputs": [
        {
          "name": "stdout",
          "output_type": "stream",
          "text": [
            "Epoch 1 | train loss: 1.515, train accuracy: 0.462, test loss: 1.149, test accuracy: 0.579, time: 0:01:15\n",
            "Epoch 2 | train loss: 1.158, train accuracy: 0.589, test loss: 1.014, test accuracy: 0.643, time: 0:02:28\n",
            "Epoch 3 | train loss: 1.066, train accuracy: 0.624, test loss: 0.958, test accuracy: 0.673, time: 0:03:40\n",
            "Epoch 4 | train loss: 0.993, train accuracy: 0.654, test loss: 0.873, test accuracy: 0.698, time: 0:04:53\n",
            "Epoch 5 | train loss: 0.945, train accuracy: 0.673, test loss: 0.860, test accuracy: 0.702, time: 0:06:05\n",
            "Epoch 6 | train loss: 0.915, train accuracy: 0.684, test loss: 0.913, test accuracy: 0.687, time: 0:07:18\n",
            "Epoch 7 | train loss: 0.887, train accuracy: 0.691, test loss: 0.799, test accuracy: 0.725, time: 0:08:30\n",
            "Epoch 8 | train loss: 0.860, train accuracy: 0.702, test loss: 0.858, test accuracy: 0.701, time: 0:09:43\n",
            "Epoch 9 | train loss: 0.836, train accuracy: 0.712, test loss: 0.773, test accuracy: 0.736, time: 0:10:55\n",
            "Epoch 10 | train loss: 0.816, train accuracy: 0.718, test loss: 0.739, test accuracy: 0.750, time: 0:12:07\n",
            "Epoch 11 | train loss: 0.796, train accuracy: 0.725, test loss: 0.731, test accuracy: 0.756, time: 0:13:20\n",
            "Epoch 12 | train loss: 0.780, train accuracy: 0.731, test loss: 0.725, test accuracy: 0.758, time: 0:14:32\n",
            "Epoch 13 | train loss: 0.771, train accuracy: 0.733, test loss: 0.720, test accuracy: 0.752, time: 0:15:45\n",
            "Epoch 14 | train loss: 0.757, train accuracy: 0.741, test loss: 0.708, test accuracy: 0.763, time: 0:16:57\n",
            "Epoch 15 | train loss: 0.745, train accuracy: 0.744, test loss: 0.703, test accuracy: 0.760, time: 0:18:10\n",
            "Epoch 16 | train loss: 0.730, train accuracy: 0.747, test loss: 0.692, test accuracy: 0.765, time: 0:19:22\n",
            "Epoch 17 | train loss: 0.721, train accuracy: 0.752, test loss: 0.676, test accuracy: 0.771, time: 0:20:35\n",
            "Epoch 18 | train loss: 0.711, train accuracy: 0.755, test loss: 0.712, test accuracy: 0.755, time: 0:21:47\n",
            "Epoch 19 | train loss: 0.702, train accuracy: 0.759, test loss: 0.651, test accuracy: 0.779, time: 0:22:59\n",
            "Epoch 20 | train loss: 0.691, train accuracy: 0.764, test loss: 0.671, test accuracy: 0.770, time: 0:24:11\n",
            "Epoch 21 | train loss: 0.684, train accuracy: 0.764, test loss: 0.676, test accuracy: 0.770, time: 0:25:23\n",
            "Epoch 22 | train loss: 0.674, train accuracy: 0.768, test loss: 0.667, test accuracy: 0.770, time: 0:26:36\n",
            "Epoch 23 | train loss: 0.670, train accuracy: 0.770, test loss: 0.655, test accuracy: 0.779, time: 0:27:48\n",
            "Epoch 24 | train loss: 0.662, train accuracy: 0.771, test loss: 0.623, test accuracy: 0.787, time: 0:29:00\n",
            "Epoch 25 | train loss: 0.649, train accuracy: 0.777, test loss: 0.655, test accuracy: 0.777, time: 0:30:12\n",
            "Epoch 26 | train loss: 0.651, train accuracy: 0.777, test loss: 0.647, test accuracy: 0.777, time: 0:31:32\n",
            "Epoch 27 | train loss: 0.647, train accuracy: 0.778, test loss: 0.633, test accuracy: 0.789, time: 0:32:44\n",
            "Epoch 28 | train loss: 0.641, train accuracy: 0.781, test loss: 0.640, test accuracy: 0.783, time: 0:33:56\n",
            "Epoch 29 | train loss: 0.626, train accuracy: 0.784, test loss: 0.660, test accuracy: 0.773, time: 0:35:08\n",
            "Epoch 30 | train loss: 0.625, train accuracy: 0.785, test loss: 0.605, test accuracy: 0.791, time: 0:36:20\n",
            "Epoch 31 | train loss: 0.624, train accuracy: 0.786, test loss: 0.610, test accuracy: 0.794, time: 0:37:33\n",
            "Epoch 32 | train loss: 0.617, train accuracy: 0.788, test loss: 0.593, test accuracy: 0.799, time: 0:38:45\n",
            "Epoch 33 | train loss: 0.618, train accuracy: 0.785, test loss: 0.594, test accuracy: 0.799, time: 0:39:58\n",
            "Epoch 34 | train loss: 0.614, train accuracy: 0.789, test loss: 0.611, test accuracy: 0.794, time: 0:41:10\n",
            "Epoch 35 | train loss: 0.607, train accuracy: 0.791, test loss: 0.610, test accuracy: 0.793, time: 0:42:22\n",
            "Epoch 36 | train loss: 0.601, train accuracy: 0.793, test loss: 0.583, test accuracy: 0.803, time: 0:43:34\n",
            "Epoch 37 | train loss: 0.600, train accuracy: 0.794, test loss: 0.597, test accuracy: 0.798, time: 0:44:47\n",
            "Epoch 38 | train loss: 0.594, train accuracy: 0.796, test loss: 0.580, test accuracy: 0.806, time: 0:46:00\n",
            "Epoch 39 | train loss: 0.591, train accuracy: 0.796, test loss: 0.602, test accuracy: 0.796, time: 0:47:12\n",
            "Epoch 40 | train loss: 0.592, train accuracy: 0.797, test loss: 0.622, test accuracy: 0.793, time: 0:48:24\n",
            "Epoch 41 | train loss: 0.585, train accuracy: 0.799, test loss: 0.596, test accuracy: 0.795, time: 0:49:36\n",
            "Epoch 42 | train loss: 0.578, train accuracy: 0.800, test loss: 0.595, test accuracy: 0.802, time: 0:50:48\n",
            "Epoch 43 | train loss: 0.581, train accuracy: 0.799, test loss: 0.595, test accuracy: 0.795, time: 0:52:00\n",
            "Epoch 44 | train loss: 0.581, train accuracy: 0.800, test loss: 0.583, test accuracy: 0.804, time: 0:53:13\n",
            "Epoch 45 | train loss: 0.574, train accuracy: 0.801, test loss: 0.633, test accuracy: 0.786, time: 0:54:25\n",
            "Epoch 46 | train loss: 0.572, train accuracy: 0.803, test loss: 0.575, test accuracy: 0.807, time: 0:55:37\n",
            "Epoch 47 | train loss: 0.570, train accuracy: 0.804, test loss: 0.615, test accuracy: 0.796, time: 0:56:49\n",
            "Epoch 48 | train loss: 0.566, train accuracy: 0.805, test loss: 0.580, test accuracy: 0.809, time: 0:58:01\n",
            "Epoch 49 | train loss: 0.562, train accuracy: 0.806, test loss: 0.582, test accuracy: 0.802, time: 0:59:14\n",
            "Epoch 50 | train loss: 0.565, train accuracy: 0.804, test loss: 0.577, test accuracy: 0.806, time: 1:00:26\n"
          ]
        }
      ],
      "source": [
        "cnn_batchnorm = nn.Sequential(\n",
        "    \n",
        "    nn.Conv2d(in_channels=3, out_channels=64, kernel_size=3, padding=1, bias=False),\n",
        "    nn.BatchNorm2d(64),\n",
        "    nn.ReLU(),\n",
        "    nn.MaxPool2d(kernel_size=2, stride=2),\n",
        "    nn.Conv2d(in_channels=64, out_channels=64, kernel_size=3, padding=1, bias=False),\n",
        "    nn.BatchNorm2d(64),\n",
        "    nn.ReLU(),\n",
        "    nn.MaxPool2d(kernel_size=2, stride=2),\n",
        "    nn.Flatten(),\n",
        "    nn.Linear(in_features=4096, out_features=10)\n",
        "    \n",
        ")\n",
        "if USE_GPU:\n",
        "    cnn_batchnorm.cuda()\n",
        "\n",
        "opt = optim.Adam(cnn_batchnorm.parameters(), lr=1e-3)\n",
        "train_classifier(cnn_batchnorm, opt, 'cnn_batchnorm', train_data=augmented_train_data)"
      ]
    },
    {
      "cell_type": "markdown",
      "metadata": {
        "id": "vWrJuSLEQe_f",
        "nbgrader": {
          "grade": false,
          "grade_id": "cell-57707594f666ee77",
          "locked": true,
          "schema_version": 3,
          "solution": false,
          "task": false
        }
      },
      "source": [
        "**Strided Convolutions**\n",
        "\n"
      ]
    },
    {
      "cell_type": "code",
      "execution_count": 25,
      "metadata": {
        "id": "H2TUFucNQe_g",
        "nbgrader": {
          "grade": true,
          "grade_id": "cell-34f5d6a1166b46fa",
          "locked": false,
          "points": 2,
          "schema_version": 3,
          "solution": true
        },
        "scrolled": true
      },
      "outputs": [
        {
          "name": "stdout",
          "output_type": "stream",
          "text": [
            "Epoch 1 | train loss: 1.533, train accuracy: 0.448, test loss: 1.275, test accuracy: 0.535, time: 0:00:38\n",
            "Epoch 2 | train loss: 1.270, train accuracy: 0.547, test loss: 1.140, test accuracy: 0.590, time: 0:01:16\n",
            "Epoch 3 | train loss: 1.141, train accuracy: 0.598, test loss: 1.000, test accuracy: 0.649, time: 0:01:53\n",
            "Epoch 4 | train loss: 1.078, train accuracy: 0.620, test loss: 0.943, test accuracy: 0.673, time: 0:02:32\n",
            "Epoch 5 | train loss: 1.028, train accuracy: 0.638, test loss: 0.964, test accuracy: 0.666, time: 0:03:10\n",
            "Epoch 6 | train loss: 0.995, train accuracy: 0.654, test loss: 0.928, test accuracy: 0.683, time: 0:03:48\n",
            "Epoch 7 | train loss: 0.973, train accuracy: 0.658, test loss: 0.894, test accuracy: 0.683, time: 0:04:26\n",
            "Epoch 8 | train loss: 0.949, train accuracy: 0.670, test loss: 0.874, test accuracy: 0.697, time: 0:05:05\n",
            "Epoch 9 | train loss: 0.933, train accuracy: 0.675, test loss: 0.851, test accuracy: 0.703, time: 0:05:43\n",
            "Epoch 10 | train loss: 0.913, train accuracy: 0.682, test loss: 0.839, test accuracy: 0.710, time: 0:06:21\n",
            "Epoch 11 | train loss: 0.902, train accuracy: 0.686, test loss: 0.844, test accuracy: 0.710, time: 0:06:59\n",
            "Epoch 12 | train loss: 0.884, train accuracy: 0.692, test loss: 0.816, test accuracy: 0.716, time: 0:07:38\n",
            "Epoch 13 | train loss: 0.878, train accuracy: 0.695, test loss: 0.840, test accuracy: 0.710, time: 0:08:16\n",
            "Epoch 14 | train loss: 0.861, train accuracy: 0.702, test loss: 0.822, test accuracy: 0.722, time: 0:08:54\n",
            "Epoch 15 | train loss: 0.854, train accuracy: 0.704, test loss: 0.836, test accuracy: 0.718, time: 0:09:32\n",
            "Epoch 16 | train loss: 0.849, train accuracy: 0.703, test loss: 0.805, test accuracy: 0.721, time: 0:10:10\n",
            "Epoch 17 | train loss: 0.843, train accuracy: 0.709, test loss: 0.812, test accuracy: 0.718, time: 0:10:48\n",
            "Epoch 18 | train loss: 0.829, train accuracy: 0.712, test loss: 0.795, test accuracy: 0.728, time: 0:11:26\n",
            "Epoch 19 | train loss: 0.823, train accuracy: 0.712, test loss: 0.769, test accuracy: 0.739, time: 0:12:04\n",
            "Epoch 20 | train loss: 0.819, train accuracy: 0.716, test loss: 0.769, test accuracy: 0.738, time: 0:12:42\n",
            "Epoch 21 | train loss: 0.809, train accuracy: 0.719, test loss: 0.756, test accuracy: 0.736, time: 0:13:20\n",
            "Epoch 22 | train loss: 0.808, train accuracy: 0.720, test loss: 0.770, test accuracy: 0.737, time: 0:13:59\n",
            "Epoch 23 | train loss: 0.798, train accuracy: 0.723, test loss: 0.751, test accuracy: 0.740, time: 0:14:37\n",
            "Epoch 24 | train loss: 0.795, train accuracy: 0.726, test loss: 0.760, test accuracy: 0.738, time: 0:15:15\n",
            "Epoch 25 | train loss: 0.790, train accuracy: 0.727, test loss: 0.731, test accuracy: 0.750, time: 0:15:53\n",
            "Epoch 26 | train loss: 0.782, train accuracy: 0.728, test loss: 0.745, test accuracy: 0.740, time: 0:16:31\n",
            "Epoch 27 | train loss: 0.781, train accuracy: 0.729, test loss: 0.765, test accuracy: 0.735, time: 0:17:09\n",
            "Epoch 28 | train loss: 0.773, train accuracy: 0.734, test loss: 0.736, test accuracy: 0.752, time: 0:17:47\n",
            "Epoch 29 | train loss: 0.775, train accuracy: 0.732, test loss: 0.735, test accuracy: 0.749, time: 0:18:25\n",
            "Epoch 30 | train loss: 0.767, train accuracy: 0.731, test loss: 0.718, test accuracy: 0.758, time: 0:19:04\n",
            "Epoch 31 | train loss: 0.762, train accuracy: 0.735, test loss: 0.735, test accuracy: 0.752, time: 0:19:42\n",
            "Epoch 32 | train loss: 0.761, train accuracy: 0.736, test loss: 0.714, test accuracy: 0.755, time: 0:20:20\n",
            "Epoch 33 | train loss: 0.755, train accuracy: 0.739, test loss: 0.701, test accuracy: 0.762, time: 0:20:58\n",
            "Epoch 34 | train loss: 0.749, train accuracy: 0.741, test loss: 0.721, test accuracy: 0.756, time: 0:21:36\n",
            "Epoch 35 | train loss: 0.746, train accuracy: 0.741, test loss: 0.714, test accuracy: 0.751, time: 0:22:14\n",
            "Epoch 36 | train loss: 0.748, train accuracy: 0.743, test loss: 0.697, test accuracy: 0.765, time: 0:22:52\n",
            "Epoch 37 | train loss: 0.742, train accuracy: 0.743, test loss: 0.699, test accuracy: 0.763, time: 0:23:30\n",
            "Epoch 38 | train loss: 0.738, train accuracy: 0.743, test loss: 0.696, test accuracy: 0.763, time: 0:24:08\n",
            "Epoch 39 | train loss: 0.733, train accuracy: 0.744, test loss: 0.713, test accuracy: 0.759, time: 0:24:46\n",
            "Epoch 40 | train loss: 0.736, train accuracy: 0.744, test loss: 0.718, test accuracy: 0.754, time: 0:25:24\n",
            "Epoch 41 | train loss: 0.733, train accuracy: 0.745, test loss: 0.700, test accuracy: 0.764, time: 0:26:02\n",
            "Epoch 42 | train loss: 0.727, train accuracy: 0.748, test loss: 0.684, test accuracy: 0.765, time: 0:26:41\n",
            "Epoch 43 | train loss: 0.719, train accuracy: 0.750, test loss: 0.690, test accuracy: 0.765, time: 0:27:19\n",
            "Epoch 44 | train loss: 0.722, train accuracy: 0.749, test loss: 0.701, test accuracy: 0.764, time: 0:27:57\n",
            "Epoch 45 | train loss: 0.717, train accuracy: 0.752, test loss: 0.692, test accuracy: 0.768, time: 0:28:35\n",
            "Epoch 46 | train loss: 0.717, train accuracy: 0.751, test loss: 0.713, test accuracy: 0.761, time: 0:29:13\n",
            "Epoch 47 | train loss: 0.717, train accuracy: 0.752, test loss: 0.677, test accuracy: 0.771, time: 0:29:51\n",
            "Epoch 48 | train loss: 0.714, train accuracy: 0.753, test loss: 0.710, test accuracy: 0.764, time: 0:30:29\n",
            "Epoch 49 | train loss: 0.707, train accuracy: 0.756, test loss: 0.694, test accuracy: 0.766, time: 0:31:07\n",
            "Epoch 50 | train loss: 0.709, train accuracy: 0.754, test loss: 0.688, test accuracy: 0.764, time: 0:31:45\n"
          ]
        }
      ],
      "source": [
        "cnn_strides = nn.Sequential(\n",
        "    \n",
        "    nn.Conv2d(in_channels=3, out_channels=64, kernel_size=3, stride=2, padding=1, bias=False),\n",
        "    nn.BatchNorm2d(64),\n",
        "    nn.ReLU(),\n",
        "    nn.Conv2d(in_channels=64, out_channels=64, kernel_size=3, stride=2, padding=1, bias=False),\n",
        "    nn.BatchNorm2d(64),\n",
        "    nn.ReLU(),\n",
        "    nn.Flatten(),\n",
        "    nn.Linear(in_features=4096, out_features=10)\n",
        "    \n",
        ")\n",
        "if USE_GPU:\n",
        "    cnn_strides.cuda()\n",
        "\n",
        "opt = optim.Adam(cnn_strides.parameters(), lr=1e-3)\n",
        "train_classifier(cnn_strides, opt, 'cnn_strides', train_data=augmented_train_data)"
      ]
    },
    {
      "cell_type": "markdown",
      "metadata": {
        "id": "WK6kn4EMQe_h",
        "nbgrader": {
          "grade": true,
          "grade_id": "cell-12ee310e8234b8f8",
          "locked": false,
          "points": 0,
          "schema_version": 3,
          "solution": true,
          "task": false
        }
      },
      "source": [
        "Training is faster. For pooling with size 2 all four features have to be computed to get the max/mean of each window. For striding only a single feature per window has to be computed."
      ]
    },
    {
      "cell_type": "markdown",
      "metadata": {
        "id": "bKaGG4tJQe_h",
        "nbgrader": {
          "grade": false,
          "grade_id": "cell-bc32808a463893fd",
          "locked": true,
          "schema_version": 3,
          "solution": false,
          "task": false
        }
      },
      "source": [
        "**Global Pooling**\n",
        "\n"
      ]
    },
    {
      "cell_type": "code",
      "execution_count": 26,
      "metadata": {
        "id": "BM0T5e2oQe_h",
        "nbgrader": {
          "grade": true,
          "grade_id": "cell-384e1eaafbd3f3b6",
          "locked": false,
          "points": 4,
          "schema_version": 3,
          "solution": true,
          "task": false
        },
        "scrolled": true
      },
      "outputs": [
        {
          "name": "stdout",
          "output_type": "stream",
          "text": [
            "Epoch 1 | train loss: 1.663, train accuracy: 0.400, test loss: 1.430, test accuracy: 0.484, time: 0:00:39\n",
            "Epoch 2 | train loss: 1.376, train accuracy: 0.505, test loss: 1.301, test accuracy: 0.531, time: 0:01:18\n",
            "Epoch 3 | train loss: 1.264, train accuracy: 0.547, test loss: 1.235, test accuracy: 0.551, time: 0:01:58\n",
            "Epoch 4 | train loss: 1.196, train accuracy: 0.574, test loss: 1.192, test accuracy: 0.572, time: 0:02:37\n",
            "Epoch 5 | train loss: 1.145, train accuracy: 0.591, test loss: 1.125, test accuracy: 0.600, time: 0:03:17\n",
            "Epoch 6 | train loss: 1.105, train accuracy: 0.607, test loss: 1.094, test accuracy: 0.607, time: 0:03:56\n",
            "Epoch 7 | train loss: 1.074, train accuracy: 0.618, test loss: 1.041, test accuracy: 0.625, time: 0:04:36\n",
            "Epoch 8 | train loss: 1.049, train accuracy: 0.627, test loss: 1.012, test accuracy: 0.637, time: 0:05:15\n",
            "Epoch 9 | train loss: 1.019, train accuracy: 0.640, test loss: 0.990, test accuracy: 0.645, time: 0:05:55\n",
            "Epoch 10 | train loss: 1.001, train accuracy: 0.647, test loss: 0.992, test accuracy: 0.649, time: 0:06:34\n",
            "Epoch 11 | train loss: 0.978, train accuracy: 0.657, test loss: 0.982, test accuracy: 0.650, time: 0:07:14\n",
            "Epoch 12 | train loss: 0.961, train accuracy: 0.659, test loss: 0.949, test accuracy: 0.668, time: 0:07:53\n",
            "Epoch 13 | train loss: 0.944, train accuracy: 0.667, test loss: 0.926, test accuracy: 0.674, time: 0:08:33\n",
            "Epoch 14 | train loss: 0.932, train accuracy: 0.672, test loss: 0.919, test accuracy: 0.674, time: 0:09:12\n",
            "Epoch 15 | train loss: 0.916, train accuracy: 0.678, test loss: 0.899, test accuracy: 0.685, time: 0:09:52\n",
            "Epoch 16 | train loss: 0.902, train accuracy: 0.682, test loss: 0.910, test accuracy: 0.684, time: 0:10:31\n",
            "Epoch 17 | train loss: 0.891, train accuracy: 0.686, test loss: 0.893, test accuracy: 0.682, time: 0:11:11\n",
            "Epoch 18 | train loss: 0.883, train accuracy: 0.690, test loss: 0.865, test accuracy: 0.697, time: 0:11:50\n",
            "Epoch 19 | train loss: 0.866, train accuracy: 0.694, test loss: 0.882, test accuracy: 0.689, time: 0:12:30\n",
            "Epoch 20 | train loss: 0.859, train accuracy: 0.699, test loss: 0.870, test accuracy: 0.688, time: 0:13:09\n",
            "Epoch 21 | train loss: 0.851, train accuracy: 0.702, test loss: 0.897, test accuracy: 0.692, time: 0:13:49\n",
            "Epoch 22 | train loss: 0.840, train accuracy: 0.705, test loss: 0.880, test accuracy: 0.692, time: 0:14:28\n",
            "Epoch 23 | train loss: 0.838, train accuracy: 0.708, test loss: 0.845, test accuracy: 0.702, time: 0:15:08\n",
            "Epoch 24 | train loss: 0.828, train accuracy: 0.710, test loss: 0.810, test accuracy: 0.720, time: 0:15:47\n",
            "Epoch 25 | train loss: 0.819, train accuracy: 0.712, test loss: 0.812, test accuracy: 0.716, time: 0:16:27\n",
            "Epoch 26 | train loss: 0.811, train accuracy: 0.717, test loss: 0.820, test accuracy: 0.712, time: 0:17:06\n",
            "Epoch 27 | train loss: 0.804, train accuracy: 0.719, test loss: 0.852, test accuracy: 0.704, time: 0:17:46\n",
            "Epoch 28 | train loss: 0.796, train accuracy: 0.720, test loss: 0.811, test accuracy: 0.716, time: 0:18:25\n",
            "Epoch 29 | train loss: 0.790, train accuracy: 0.722, test loss: 0.785, test accuracy: 0.725, time: 0:19:05\n",
            "Epoch 30 | train loss: 0.782, train accuracy: 0.726, test loss: 0.826, test accuracy: 0.714, time: 0:19:44\n",
            "Epoch 31 | train loss: 0.781, train accuracy: 0.727, test loss: 0.784, test accuracy: 0.730, time: 0:20:23\n",
            "Epoch 32 | train loss: 0.769, train accuracy: 0.730, test loss: 0.794, test accuracy: 0.723, time: 0:21:03\n",
            "Epoch 33 | train loss: 0.767, train accuracy: 0.731, test loss: 0.772, test accuracy: 0.726, time: 0:21:42\n",
            "Epoch 34 | train loss: 0.759, train accuracy: 0.735, test loss: 0.811, test accuracy: 0.720, time: 0:22:22\n",
            "Epoch 35 | train loss: 0.761, train accuracy: 0.733, test loss: 0.763, test accuracy: 0.732, time: 0:23:01\n",
            "Epoch 36 | train loss: 0.755, train accuracy: 0.735, test loss: 0.781, test accuracy: 0.731, time: 0:23:41\n",
            "Epoch 37 | train loss: 0.746, train accuracy: 0.739, test loss: 0.751, test accuracy: 0.738, time: 0:24:20\n",
            "Epoch 38 | train loss: 0.741, train accuracy: 0.741, test loss: 0.765, test accuracy: 0.736, time: 0:25:00\n",
            "Epoch 39 | train loss: 0.739, train accuracy: 0.742, test loss: 0.777, test accuracy: 0.731, time: 0:25:39\n",
            "Epoch 40 | train loss: 0.733, train accuracy: 0.746, test loss: 0.755, test accuracy: 0.738, time: 0:26:19\n",
            "Epoch 41 | train loss: 0.733, train accuracy: 0.743, test loss: 0.771, test accuracy: 0.729, time: 0:26:58\n",
            "Epoch 42 | train loss: 0.729, train accuracy: 0.744, test loss: 0.755, test accuracy: 0.735, time: 0:27:38\n",
            "Epoch 43 | train loss: 0.724, train accuracy: 0.747, test loss: 0.734, test accuracy: 0.748, time: 0:28:17\n",
            "Epoch 44 | train loss: 0.712, train accuracy: 0.753, test loss: 0.750, test accuracy: 0.742, time: 0:28:57\n",
            "Epoch 45 | train loss: 0.714, train accuracy: 0.750, test loss: 0.793, test accuracy: 0.725, time: 0:29:37\n",
            "Epoch 46 | train loss: 0.713, train accuracy: 0.752, test loss: 0.754, test accuracy: 0.739, time: 0:30:16\n",
            "Epoch 47 | train loss: 0.709, train accuracy: 0.754, test loss: 0.751, test accuracy: 0.743, time: 0:30:56\n",
            "Epoch 48 | train loss: 0.705, train accuracy: 0.753, test loss: 0.728, test accuracy: 0.751, time: 0:31:35\n",
            "Epoch 49 | train loss: 0.704, train accuracy: 0.755, test loss: 0.729, test accuracy: 0.745, time: 0:32:15\n",
            "Epoch 50 | train loss: 0.701, train accuracy: 0.754, test loss: 0.711, test accuracy: 0.750, time: 0:32:54\n"
          ]
        }
      ],
      "source": [
        "class GlobalAvgPool2d(torch.nn.Module):\n",
        "    def __init__(self):\n",
        "        super().__init__()\n",
        "\n",
        "    def forward(self, x):\n",
        "        pooled = x.mean(dim=(2, 3))\n",
        "        return pooled\n",
        "\n",
        "\n",
        "cnn_global_pool = nn.Sequential(\n",
        "    \n",
        "    nn.Conv2d(in_channels=3, out_channels=64, kernel_size=3, stride=2, padding=1, bias=False),\n",
        "    nn.BatchNorm2d(64),\n",
        "    nn.ReLU(),\n",
        "    nn.Conv2d(in_channels=64, out_channels=64, kernel_size=3, stride=2, padding=1, bias=False),\n",
        "    nn.BatchNorm2d(64),\n",
        "    nn.ReLU(),\n",
        "    nn.Conv2d(in_channels=64, out_channels=64, kernel_size=3, stride=2, padding=1, bias=False),\n",
        "    nn.BatchNorm2d(64),\n",
        "    nn.ReLU(),\n",
        "    GlobalAvgPool2d(),\n",
        "    nn.Linear(in_features=64, out_features=10)\n",
        "    \n",
        ")\n",
        "if USE_GPU:\n",
        "    cnn_global_pool.cuda()\n",
        "\n",
        "opt = optim.Adam(cnn_global_pool.parameters(), lr=1e-3)\n",
        "train_classifier(cnn_global_pool, opt, 'cnn_global_pool', train_data=augmented_train_data)"
      ]
    },
    {
      "cell_type": "markdown",
      "metadata": {
        "id": "2aatPlcVQe_k",
        "nbgrader": {
          "grade": false,
          "grade_id": "cell-cfc670e8ea147092",
          "locked": true,
          "schema_version": 3,
          "solution": false,
          "task": false
        }
      },
      "source": [
        "**Residual Networks**\n",
        "\n"
      ]
    },
    {
      "cell_type": "code",
      "execution_count": 27,
      "metadata": {
        "id": "WH7PVZk8Qe_l",
        "nbgrader": {
          "grade": true,
          "grade_id": "cell-78512b7752e9d7d2",
          "locked": false,
          "points": 6,
          "schema_version": 3,
          "solution": true,
          "task": false
        },
        "scrolled": true
      },
      "outputs": [],
      "source": [
        "class ResNetBlock(torch.nn.Module):\n",
        "    def __init__(self, in_channels, out_channels, stride=1):\n",
        "        super().__init__()\n",
        "        self.f = nn.Sequential(\n",
        "            nn.Conv2d(in_channels, out_channels, kernel_size=3, stride=stride, padding=1, bias=False),\n",
        "            nn.BatchNorm2d(out_channels),\n",
        "            nn.ReLU(),\n",
        "            nn.Conv2d(out_channels, out_channels, kernel_size=3, padding=1, bias=False),\n",
        "            nn.BatchNorm2d(out_channels)\n",
        "        )\n",
        "        self.activation = nn.ReLU()\n",
        "        self.pad_weight = nn.Parameter(\n",
        "            torch.eye(out_channels, in_channels)[:, :, None, None],\n",
        "            requires_grad=False\n",
        "        )\n",
        "        self.stride = stride\n",
        "\n",
        "    def forward(self, x):\n",
        "        r = self.f(x)\n",
        "        x = F.conv2d(x, self.pad_weight, stride=self.stride)\n",
        "        return self.activation(x + r)\n",
        "    \n",
        "\n",
        "class ResNet(torch.nn.Module):\n",
        "    def __init__(self, num_layers=14, in_channels=3, out_features=10):\n",
        "        super().__init__()\n",
        "        if (num_layers - 2) % 6 != 0:\n",
        "            raise ValueError('n_layers should be 6n+2 (eg 20, 32, 44, 56)')\n",
        "        n = (num_layers - 2) // 6\n",
        "        \n",
        "        layers = []\n",
        "        \n",
        "        first_layer = nn.Sequential(\n",
        "            nn.Conv2d(in_channels, 16, kernel_size=3, padding=1, bias=False),\n",
        "            nn.BatchNorm2d(16),\n",
        "            nn.ReLU()\n",
        "        )\n",
        "        \n",
        "        layers.append(first_layer)\n",
        "\n",
        "        for i in range(n):\n",
        "            layers.append(ResNetBlock(16, 16))\n",
        "\n",
        "        layers.append(ResNetBlock(16, 32, stride=2))\n",
        "        for i in range(1, n):\n",
        "            layers.append(ResNetBlock(32, 32))\n",
        "\n",
        "        layers.append(ResNetBlock(32, 64, stride=2))\n",
        "        for i in range(1, n):\n",
        "            layers.append(ResNetBlock(64, 64))\n",
        "            \n",
        "        layers.append(GlobalAvgPool2d())\n",
        "        layers.append(nn.Linear(64, out_features))\n",
        "        \n",
        "        self.net = nn.Sequential(*layers)\n",
        "\n",
        "    def forward(self, x):\n",
        "        return self.net(x)"
      ]
    },
    {
      "cell_type": "code",
      "execution_count": 28,
      "metadata": {
        "id": "YeOkMsmQQe_m",
        "nbgrader": {
          "grade": false,
          "grade_id": "cell-e3b3f6d8fa93f028",
          "locked": true,
          "schema_version": 3,
          "solution": false,
          "task": false
        },
        "scrolled": true
      },
      "outputs": [
        {
          "name": "stdout",
          "output_type": "stream",
          "text": [
            "Epoch 1 | train loss: 1.481, train accuracy: 0.457, test loss: 1.237, test accuracy: 0.549, time: 0:02:24\n",
            "Epoch 2 | train loss: 1.084, train accuracy: 0.612, test loss: 1.071, test accuracy: 0.623, time: 0:04:49\n",
            "Epoch 3 | train loss: 0.931, train accuracy: 0.667, test loss: 1.031, test accuracy: 0.639, time: 0:07:14\n",
            "Epoch 4 | train loss: 0.835, train accuracy: 0.706, test loss: 0.859, test accuracy: 0.700, time: 0:09:39\n",
            "Epoch 5 | train loss: 0.755, train accuracy: 0.733, test loss: 0.913, test accuracy: 0.695, time: 0:12:06\n",
            "Epoch 6 | train loss: 0.693, train accuracy: 0.758, test loss: 0.730, test accuracy: 0.752, time: 0:14:31\n",
            "Epoch 7 | train loss: 0.646, train accuracy: 0.776, test loss: 0.719, test accuracy: 0.748, time: 0:16:56\n",
            "Epoch 8 | train loss: 0.609, train accuracy: 0.788, test loss: 0.682, test accuracy: 0.761, time: 0:19:21\n",
            "Epoch 9 | train loss: 0.585, train accuracy: 0.798, test loss: 0.615, test accuracy: 0.791, time: 0:21:46\n",
            "Epoch 10 | train loss: 0.556, train accuracy: 0.806, test loss: 0.590, test accuracy: 0.801, time: 0:24:11\n",
            "Epoch 11 | train loss: 0.535, train accuracy: 0.814, test loss: 0.552, test accuracy: 0.814, time: 0:26:36\n",
            "Epoch 12 | train loss: 0.515, train accuracy: 0.821, test loss: 0.633, test accuracy: 0.788, time: 0:29:01\n",
            "Epoch 13 | train loss: 0.498, train accuracy: 0.828, test loss: 0.692, test accuracy: 0.764, time: 0:31:26\n",
            "Epoch 14 | train loss: 0.478, train accuracy: 0.834, test loss: 0.588, test accuracy: 0.801, time: 0:33:51\n",
            "Epoch 15 | train loss: 0.466, train accuracy: 0.836, test loss: 0.519, test accuracy: 0.826, time: 0:36:17\n",
            "Epoch 16 | train loss: 0.456, train accuracy: 0.841, test loss: 0.516, test accuracy: 0.831, time: 0:38:42\n",
            "Epoch 17 | train loss: 0.441, train accuracy: 0.846, test loss: 0.537, test accuracy: 0.819, time: 0:41:07\n",
            "Epoch 18 | train loss: 0.433, train accuracy: 0.849, test loss: 0.524, test accuracy: 0.823, time: 0:43:32\n",
            "Epoch 19 | train loss: 0.425, train accuracy: 0.852, test loss: 0.531, test accuracy: 0.821, time: 0:45:57\n",
            "Epoch 20 | train loss: 0.414, train accuracy: 0.855, test loss: 0.500, test accuracy: 0.832, time: 0:48:22\n",
            "Epoch 21 | train loss: 0.405, train accuracy: 0.857, test loss: 0.482, test accuracy: 0.837, time: 0:50:47\n",
            "Epoch 22 | train loss: 0.393, train accuracy: 0.864, test loss: 0.478, test accuracy: 0.839, time: 0:53:12\n",
            "Epoch 23 | train loss: 0.387, train accuracy: 0.865, test loss: 0.536, test accuracy: 0.817, time: 0:55:37\n",
            "Epoch 24 | train loss: 0.384, train accuracy: 0.866, test loss: 0.464, test accuracy: 0.844, time: 0:58:09\n",
            "Epoch 25 | train loss: 0.376, train accuracy: 0.870, test loss: 0.473, test accuracy: 0.843, time: 1:00:34\n",
            "Epoch 26 | train loss: 0.367, train accuracy: 0.873, test loss: 0.463, test accuracy: 0.844, time: 1:02:59\n",
            "Epoch 27 | train loss: 0.358, train accuracy: 0.875, test loss: 0.492, test accuracy: 0.838, time: 1:05:24\n",
            "Epoch 28 | train loss: 0.359, train accuracy: 0.874, test loss: 0.440, test accuracy: 0.852, time: 1:07:50\n",
            "Epoch 29 | train loss: 0.350, train accuracy: 0.876, test loss: 0.467, test accuracy: 0.840, time: 1:10:15\n",
            "Epoch 30 | train loss: 0.344, train accuracy: 0.881, test loss: 0.471, test accuracy: 0.839, time: 1:12:53\n",
            "Epoch 31 | train loss: 0.339, train accuracy: 0.883, test loss: 0.473, test accuracy: 0.843, time: 1:15:18\n",
            "Epoch 32 | train loss: 0.335, train accuracy: 0.883, test loss: 0.415, test accuracy: 0.861, time: 1:17:43\n",
            "Epoch 33 | train loss: 0.336, train accuracy: 0.882, test loss: 0.467, test accuracy: 0.845, time: 1:20:08\n",
            "Epoch 34 | train loss: 0.327, train accuracy: 0.885, test loss: 0.475, test accuracy: 0.840, time: 1:22:33\n",
            "Epoch 35 | train loss: 0.318, train accuracy: 0.889, test loss: 0.427, test accuracy: 0.859, time: 1:24:58\n",
            "Epoch 36 | train loss: 0.319, train accuracy: 0.889, test loss: 0.431, test accuracy: 0.862, time: 1:27:32\n",
            "Epoch 37 | train loss: 0.312, train accuracy: 0.890, test loss: 0.407, test accuracy: 0.865, time: 1:29:57\n",
            "Epoch 38 | train loss: 0.312, train accuracy: 0.889, test loss: 0.433, test accuracy: 0.856, time: 1:32:23\n",
            "Epoch 39 | train loss: 0.308, train accuracy: 0.891, test loss: 0.433, test accuracy: 0.859, time: 1:34:48\n",
            "Epoch 40 | train loss: 0.306, train accuracy: 0.893, test loss: 0.462, test accuracy: 0.848, time: 1:37:13\n",
            "Epoch 41 | train loss: 0.301, train accuracy: 0.894, test loss: 0.405, test accuracy: 0.870, time: 1:39:38\n",
            "Epoch 42 | train loss: 0.302, train accuracy: 0.896, test loss: 0.383, test accuracy: 0.871, time: 1:42:09\n",
            "Epoch 43 | train loss: 0.296, train accuracy: 0.896, test loss: 0.414, test accuracy: 0.867, time: 1:44:34\n",
            "Epoch 44 | train loss: 0.295, train accuracy: 0.897, test loss: 0.427, test accuracy: 0.864, time: 1:46:59\n",
            "Epoch 45 | train loss: 0.289, train accuracy: 0.900, test loss: 0.450, test accuracy: 0.853, time: 1:49:24\n",
            "Epoch 46 | train loss: 0.286, train accuracy: 0.901, test loss: 0.408, test accuracy: 0.866, time: 1:51:49\n",
            "Epoch 47 | train loss: 0.282, train accuracy: 0.902, test loss: 0.462, test accuracy: 0.851, time: 1:54:14\n",
            "Epoch 48 | train loss: 0.282, train accuracy: 0.902, test loss: 0.409, test accuracy: 0.865, time: 1:56:41\n",
            "Epoch 49 | train loss: 0.280, train accuracy: 0.901, test loss: 0.398, test accuracy: 0.869, time: 1:59:07\n",
            "Epoch 50 | train loss: 0.275, train accuracy: 0.904, test loss: 0.450, test accuracy: 0.855, time: 2:01:32\n"
          ]
        }
      ],
      "source": [
        "resnet = ResNet()\n",
        "if USE_GPU:\n",
        "    resnet.cuda()\n",
        "\n",
        "opt = optim.Adam(resnet.parameters(), lr=1e-3, weight_decay=1e-4)\n",
        "train_classifier(resnet, opt, f'resnet', train_data=augmented_train_data)"
      ]
    },
    {
      "cell_type": "markdown",
      "metadata": {
        "id": "FeLW7ZMEQe_n",
        "nbgrader": {
          "grade": false,
          "grade_id": "cell-434819020b48d6b4",
          "locked": true,
          "schema_version": 3,
          "solution": false,
          "task": false
        }
      },
      "source": [
        "**Learning Rate Decay**\n",
        "\n",
        "Learning rate decay reduces the learning rate as the training progresses. Use the same settings as in the previous experiment, but this time create a `MultiStepLR`-scheduler and decrease the learning rate twice by a factor of 10 each."
      ]
    },
    {
      "cell_type": "code",
      "execution_count": 29,
      "metadata": {
        "id": "P6UnRNB7Qe_n",
        "nbgrader": {
          "grade": true,
          "grade_id": "cell-f2042420b7d15963",
          "locked": false,
          "points": 2,
          "schema_version": 3,
          "solution": true
        },
        "scrolled": true
      },
      "outputs": [
        {
          "name": "stdout",
          "output_type": "stream",
          "text": [
            "Epoch 1 | train loss: 1.468, train accuracy: 0.465, test loss: 1.246, test accuracy: 0.537, time: 0:02:24\n",
            "Epoch 2 | train loss: 1.070, train accuracy: 0.616, test loss: 1.051, test accuracy: 0.623, time: 0:04:48\n",
            "Epoch 3 | train loss: 0.912, train accuracy: 0.676, test loss: 0.952, test accuracy: 0.669, time: 0:07:13\n",
            "Epoch 4 | train loss: 0.814, train accuracy: 0.714, test loss: 0.978, test accuracy: 0.669, time: 0:09:37\n",
            "Epoch 5 | train loss: 0.735, train accuracy: 0.741, test loss: 0.792, test accuracy: 0.723, time: 0:12:17\n",
            "Epoch 6 | train loss: 0.678, train accuracy: 0.761, test loss: 0.786, test accuracy: 0.734, time: 0:14:41\n",
            "Epoch 7 | train loss: 0.635, train accuracy: 0.779, test loss: 0.663, test accuracy: 0.775, time: 0:17:05\n",
            "Epoch 8 | train loss: 0.601, train accuracy: 0.791, test loss: 0.618, test accuracy: 0.785, time: 0:19:29\n",
            "Epoch 9 | train loss: 0.570, train accuracy: 0.800, test loss: 0.675, test accuracy: 0.773, time: 0:21:54\n",
            "Epoch 10 | train loss: 0.549, train accuracy: 0.808, test loss: 0.596, test accuracy: 0.796, time: 0:24:18\n",
            "Epoch 11 | train loss: 0.526, train accuracy: 0.818, test loss: 0.601, test accuracy: 0.799, time: 0:26:56\n",
            "Epoch 12 | train loss: 0.509, train accuracy: 0.823, test loss: 0.675, test accuracy: 0.772, time: 0:29:21\n",
            "Epoch 13 | train loss: 0.493, train accuracy: 0.829, test loss: 0.587, test accuracy: 0.803, time: 0:31:45\n",
            "Epoch 14 | train loss: 0.475, train accuracy: 0.835, test loss: 0.545, test accuracy: 0.821, time: 0:34:10\n",
            "Epoch 15 | train loss: 0.463, train accuracy: 0.840, test loss: 0.506, test accuracy: 0.826, time: 0:36:34\n",
            "Epoch 16 | train loss: 0.455, train accuracy: 0.841, test loss: 0.557, test accuracy: 0.814, time: 0:38:58\n",
            "Epoch 17 | train loss: 0.443, train accuracy: 0.846, test loss: 0.485, test accuracy: 0.834, time: 0:41:32\n",
            "Epoch 18 | train loss: 0.433, train accuracy: 0.849, test loss: 0.548, test accuracy: 0.819, time: 0:43:56\n",
            "Epoch 19 | train loss: 0.419, train accuracy: 0.854, test loss: 0.538, test accuracy: 0.828, time: 0:46:20\n",
            "Epoch 20 | train loss: 0.412, train accuracy: 0.857, test loss: 0.512, test accuracy: 0.828, time: 0:48:45\n",
            "Epoch 21 | train loss: 0.403, train accuracy: 0.860, test loss: 0.542, test accuracy: 0.823, time: 0:51:09\n",
            "Epoch 22 | train loss: 0.399, train accuracy: 0.861, test loss: 0.571, test accuracy: 0.813, time: 0:53:33\n",
            "Epoch 23 | train loss: 0.387, train accuracy: 0.865, test loss: 0.482, test accuracy: 0.838, time: 0:56:03\n",
            "Epoch 24 | train loss: 0.382, train accuracy: 0.864, test loss: 0.459, test accuracy: 0.849, time: 0:58:28\n",
            "Epoch 25 | train loss: 0.378, train accuracy: 0.868, test loss: 0.466, test accuracy: 0.844, time: 1:01:03\n",
            "Epoch 26 | train loss: 0.366, train accuracy: 0.873, test loss: 0.462, test accuracy: 0.847, time: 1:03:35\n",
            "Epoch 27 | train loss: 0.359, train accuracy: 0.874, test loss: 0.470, test accuracy: 0.841, time: 1:06:07\n",
            "Epoch 28 | train loss: 0.354, train accuracy: 0.877, test loss: 0.425, test accuracy: 0.857, time: 1:08:39\n",
            "Epoch 29 | train loss: 0.350, train accuracy: 0.877, test loss: 0.472, test accuracy: 0.845, time: 1:11:17\n",
            "Epoch 30 | train loss: 0.342, train accuracy: 0.881, test loss: 0.446, test accuracy: 0.855, time: 1:13:41\n",
            "Epoch 31 | train loss: 0.342, train accuracy: 0.880, test loss: 0.421, test accuracy: 0.864, time: 1:16:05\n",
            "Epoch 32 | train loss: 0.334, train accuracy: 0.884, test loss: 0.427, test accuracy: 0.855, time: 1:18:30\n",
            "Epoch 33 | train loss: 0.323, train accuracy: 0.886, test loss: 0.422, test accuracy: 0.861, time: 1:20:54\n",
            "Epoch 34 | train loss: 0.324, train accuracy: 0.889, test loss: 0.453, test accuracy: 0.852, time: 1:23:19\n",
            "Epoch 35 | train loss: 0.321, train accuracy: 0.888, test loss: 0.431, test accuracy: 0.859, time: 1:25:47\n",
            "Epoch 36 | train loss: 0.263, train accuracy: 0.908, test loss: 0.335, test accuracy: 0.888, time: 1:28:11\n",
            "Epoch 37 | train loss: 0.245, train accuracy: 0.914, test loss: 0.331, test accuracy: 0.888, time: 1:30:35\n",
            "Epoch 38 | train loss: 0.235, train accuracy: 0.919, test loss: 0.334, test accuracy: 0.889, time: 1:32:59\n",
            "Epoch 39 | train loss: 0.233, train accuracy: 0.921, test loss: 0.334, test accuracy: 0.890, time: 1:35:24\n",
            "Epoch 40 | train loss: 0.229, train accuracy: 0.921, test loss: 0.330, test accuracy: 0.889, time: 1:37:48\n",
            "Epoch 41 | train loss: 0.225, train accuracy: 0.923, test loss: 0.331, test accuracy: 0.889, time: 1:40:12\n",
            "Epoch 42 | train loss: 0.223, train accuracy: 0.923, test loss: 0.332, test accuracy: 0.890, time: 1:42:36\n",
            "Epoch 43 | train loss: 0.221, train accuracy: 0.923, test loss: 0.330, test accuracy: 0.892, time: 1:45:01\n",
            "Epoch 44 | train loss: 0.218, train accuracy: 0.924, test loss: 0.331, test accuracy: 0.893, time: 1:47:25\n",
            "Epoch 45 | train loss: 0.215, train accuracy: 0.926, test loss: 0.332, test accuracy: 0.891, time: 1:49:50\n",
            "Epoch 46 | train loss: 0.208, train accuracy: 0.928, test loss: 0.330, test accuracy: 0.893, time: 1:52:14\n",
            "Epoch 47 | train loss: 0.206, train accuracy: 0.929, test loss: 0.330, test accuracy: 0.893, time: 1:54:38\n",
            "Epoch 48 | train loss: 0.209, train accuracy: 0.928, test loss: 0.328, test accuracy: 0.893, time: 1:57:19\n",
            "Epoch 49 | train loss: 0.208, train accuracy: 0.928, test loss: 0.329, test accuracy: 0.894, time: 1:59:44\n",
            "Epoch 50 | train loss: 0.206, train accuracy: 0.927, test loss: 0.330, test accuracy: 0.892, time: 2:02:08\n"
          ]
        }
      ],
      "source": [
        "resnet_decay = ResNet()\n",
        "if USE_GPU:\n",
        "    resnet_decay.cuda()\n",
        "\n",
        "opt = optim.Adam(resnet_decay.parameters(), lr=1e-3, weight_decay=1e-4)\n",
        "scheduler = optim.lr_scheduler.MultiStepLR(opt, [35, 45], gamma=0.1)\n",
        "train_classifier(resnet_decay, opt, 'resnet_decay', lr_scheduler=scheduler, train_data=augmented_train_data)"
      ]
    },
    {
      "cell_type": "code",
      "execution_count": null,
      "metadata": {
        "id": "cApCFYpPQe_o"
      },
      "outputs": [],
      "source": []
    }
  ],
  "metadata": {
    "accelerator": "TPU",
    "celltoolbar": "Create Assignment",
    "colab": {
      "provenance": []
    },
    "gpuClass": "standard",
    "kernelspec": {
      "display_name": "Python 3",
      "language": "python",
      "name": "python3"
    },
    "language_info": {
      "codemirror_mode": {
        "name": "ipython",
        "version": 3
      },
      "file_extension": ".py",
      "mimetype": "text/x-python",
      "name": "python",
      "nbconvert_exporter": "python",
      "pygments_lexer": "ipython3",
      "version": "3.10.0 (tags/v3.10.0:b494f59, Oct  4 2021, 19:00:18) [MSC v.1929 64 bit (AMD64)]"
    },
    "vscode": {
      "interpreter": {
        "hash": "bc044a79bad8eda22a6c4df0c767ef2e2e58cc3369a5c899a5b3a766d842d97d"
      }
    },
    "widgets": {
      "application/vnd.jupyter.widget-state+json": {
        "133ff57812d54784944f04631575f25c": {
          "model_module": "@jupyter-widgets/base",
          "model_module_version": "1.2.0",
          "model_name": "LayoutModel",
          "state": {
            "_model_module": "@jupyter-widgets/base",
            "_model_module_version": "1.2.0",
            "_model_name": "LayoutModel",
            "_view_count": null,
            "_view_module": "@jupyter-widgets/base",
            "_view_module_version": "1.2.0",
            "_view_name": "LayoutView",
            "align_content": null,
            "align_items": null,
            "align_self": null,
            "border": null,
            "bottom": null,
            "display": null,
            "flex": null,
            "flex_flow": null,
            "grid_area": null,
            "grid_auto_columns": null,
            "grid_auto_flow": null,
            "grid_auto_rows": null,
            "grid_column": null,
            "grid_gap": null,
            "grid_row": null,
            "grid_template_areas": null,
            "grid_template_columns": null,
            "grid_template_rows": null,
            "height": null,
            "justify_content": null,
            "justify_items": null,
            "left": null,
            "margin": null,
            "max_height": null,
            "max_width": null,
            "min_height": null,
            "min_width": null,
            "object_fit": null,
            "object_position": null,
            "order": null,
            "overflow": null,
            "overflow_x": null,
            "overflow_y": null,
            "padding": null,
            "right": null,
            "top": null,
            "visibility": null,
            "width": null
          }
        },
        "1e2d8c065aaf4d54b969c3e75961130e": {
          "model_module": "@jupyter-widgets/controls",
          "model_module_version": "1.5.0",
          "model_name": "ProgressStyleModel",
          "state": {
            "_model_module": "@jupyter-widgets/controls",
            "_model_module_version": "1.5.0",
            "_model_name": "ProgressStyleModel",
            "_view_count": null,
            "_view_module": "@jupyter-widgets/base",
            "_view_module_version": "1.2.0",
            "_view_name": "StyleView",
            "bar_color": null,
            "description_width": ""
          }
        },
        "269008ff12794c329887d7c58bd27a5b": {
          "model_module": "@jupyter-widgets/base",
          "model_module_version": "1.2.0",
          "model_name": "LayoutModel",
          "state": {
            "_model_module": "@jupyter-widgets/base",
            "_model_module_version": "1.2.0",
            "_model_name": "LayoutModel",
            "_view_count": null,
            "_view_module": "@jupyter-widgets/base",
            "_view_module_version": "1.2.0",
            "_view_name": "LayoutView",
            "align_content": null,
            "align_items": null,
            "align_self": null,
            "border": null,
            "bottom": null,
            "display": null,
            "flex": null,
            "flex_flow": null,
            "grid_area": null,
            "grid_auto_columns": null,
            "grid_auto_flow": null,
            "grid_auto_rows": null,
            "grid_column": null,
            "grid_gap": null,
            "grid_row": null,
            "grid_template_areas": null,
            "grid_template_columns": null,
            "grid_template_rows": null,
            "height": null,
            "justify_content": null,
            "justify_items": null,
            "left": null,
            "margin": null,
            "max_height": null,
            "max_width": null,
            "min_height": null,
            "min_width": null,
            "object_fit": null,
            "object_position": null,
            "order": null,
            "overflow": null,
            "overflow_x": null,
            "overflow_y": null,
            "padding": null,
            "right": null,
            "top": null,
            "visibility": null,
            "width": null
          }
        },
        "37512f08a7e3467789ba9e29d52bc33e": {
          "model_module": "@jupyter-widgets/controls",
          "model_module_version": "1.5.0",
          "model_name": "DescriptionStyleModel",
          "state": {
            "_model_module": "@jupyter-widgets/controls",
            "_model_module_version": "1.5.0",
            "_model_name": "DescriptionStyleModel",
            "_view_count": null,
            "_view_module": "@jupyter-widgets/base",
            "_view_module_version": "1.2.0",
            "_view_name": "StyleView",
            "description_width": ""
          }
        },
        "39f7ff272deb447d838cccc726cacc0b": {
          "model_module": "@jupyter-widgets/base",
          "model_module_version": "1.2.0",
          "model_name": "LayoutModel",
          "state": {
            "_model_module": "@jupyter-widgets/base",
            "_model_module_version": "1.2.0",
            "_model_name": "LayoutModel",
            "_view_count": null,
            "_view_module": "@jupyter-widgets/base",
            "_view_module_version": "1.2.0",
            "_view_name": "LayoutView",
            "align_content": null,
            "align_items": null,
            "align_self": null,
            "border": null,
            "bottom": null,
            "display": null,
            "flex": null,
            "flex_flow": null,
            "grid_area": null,
            "grid_auto_columns": null,
            "grid_auto_flow": null,
            "grid_auto_rows": null,
            "grid_column": null,
            "grid_gap": null,
            "grid_row": null,
            "grid_template_areas": null,
            "grid_template_columns": null,
            "grid_template_rows": null,
            "height": null,
            "justify_content": null,
            "justify_items": null,
            "left": null,
            "margin": null,
            "max_height": null,
            "max_width": null,
            "min_height": null,
            "min_width": null,
            "object_fit": null,
            "object_position": null,
            "order": null,
            "overflow": null,
            "overflow_x": null,
            "overflow_y": null,
            "padding": null,
            "right": null,
            "top": null,
            "visibility": null,
            "width": null
          }
        },
        "4b401c65cc68420790594dba5877501d": {
          "model_module": "@jupyter-widgets/controls",
          "model_module_version": "1.5.0",
          "model_name": "DescriptionStyleModel",
          "state": {
            "_model_module": "@jupyter-widgets/controls",
            "_model_module_version": "1.5.0",
            "_model_name": "DescriptionStyleModel",
            "_view_count": null,
            "_view_module": "@jupyter-widgets/base",
            "_view_module_version": "1.2.0",
            "_view_name": "StyleView",
            "description_width": ""
          }
        },
        "64a0e1339a04460dbedc723c60c2d68e": {
          "model_module": "@jupyter-widgets/controls",
          "model_module_version": "1.5.0",
          "model_name": "ProgressStyleModel",
          "state": {
            "_model_module": "@jupyter-widgets/controls",
            "_model_module_version": "1.5.0",
            "_model_name": "ProgressStyleModel",
            "_view_count": null,
            "_view_module": "@jupyter-widgets/base",
            "_view_module_version": "1.2.0",
            "_view_name": "StyleView",
            "bar_color": null,
            "description_width": ""
          }
        },
        "6ac6f72903184095b2b999edea30dfdd": {
          "model_module": "@jupyter-widgets/controls",
          "model_module_version": "1.5.0",
          "model_name": "HTMLModel",
          "state": {
            "_dom_classes": [],
            "_model_module": "@jupyter-widgets/controls",
            "_model_module_version": "1.5.0",
            "_model_name": "HTMLModel",
            "_view_count": null,
            "_view_module": "@jupyter-widgets/controls",
            "_view_module_version": "1.5.0",
            "_view_name": "HTMLView",
            "description": "",
            "description_tooltip": null,
            "layout": "IPY_MODEL_f4a6f1af430a4c7ebe27893b06718f3f",
            "placeholder": "​",
            "style": "IPY_MODEL_37512f08a7e3467789ba9e29d52bc33e",
            "value": "100%"
          }
        },
        "7751787da00142d5a82c6d94be341218": {
          "model_module": "@jupyter-widgets/base",
          "model_module_version": "1.2.0",
          "model_name": "LayoutModel",
          "state": {
            "_model_module": "@jupyter-widgets/base",
            "_model_module_version": "1.2.0",
            "_model_name": "LayoutModel",
            "_view_count": null,
            "_view_module": "@jupyter-widgets/base",
            "_view_module_version": "1.2.0",
            "_view_name": "LayoutView",
            "align_content": null,
            "align_items": null,
            "align_self": null,
            "border": null,
            "bottom": null,
            "display": null,
            "flex": null,
            "flex_flow": null,
            "grid_area": null,
            "grid_auto_columns": null,
            "grid_auto_flow": null,
            "grid_auto_rows": null,
            "grid_column": null,
            "grid_gap": null,
            "grid_row": null,
            "grid_template_areas": null,
            "grid_template_columns": null,
            "grid_template_rows": null,
            "height": null,
            "justify_content": null,
            "justify_items": null,
            "left": null,
            "margin": null,
            "max_height": null,
            "max_width": null,
            "min_height": null,
            "min_width": null,
            "object_fit": null,
            "object_position": null,
            "order": null,
            "overflow": null,
            "overflow_x": null,
            "overflow_y": null,
            "padding": null,
            "right": null,
            "top": null,
            "visibility": null,
            "width": null
          }
        },
        "9c8cdf441c91464387213079a179fb58": {
          "model_module": "@jupyter-widgets/controls",
          "model_module_version": "1.5.0",
          "model_name": "FloatProgressModel",
          "state": {
            "_dom_classes": [],
            "_model_module": "@jupyter-widgets/controls",
            "_model_module_version": "1.5.0",
            "_model_name": "FloatProgressModel",
            "_view_count": null,
            "_view_module": "@jupyter-widgets/controls",
            "_view_module_version": "1.5.0",
            "_view_name": "ProgressView",
            "bar_style": "success",
            "description": "",
            "description_tooltip": null,
            "layout": "IPY_MODEL_b1fef4c46f324521bc12e848e65e1a70",
            "max": 170498071,
            "min": 0,
            "orientation": "horizontal",
            "style": "IPY_MODEL_1e2d8c065aaf4d54b969c3e75961130e",
            "value": 170498071
          }
        },
        "a7c2307465414d2884b194223d6567a5": {
          "model_module": "@jupyter-widgets/base",
          "model_module_version": "1.2.0",
          "model_name": "LayoutModel",
          "state": {
            "_model_module": "@jupyter-widgets/base",
            "_model_module_version": "1.2.0",
            "_model_name": "LayoutModel",
            "_view_count": null,
            "_view_module": "@jupyter-widgets/base",
            "_view_module_version": "1.2.0",
            "_view_name": "LayoutView",
            "align_content": null,
            "align_items": null,
            "align_self": null,
            "border": null,
            "bottom": null,
            "display": null,
            "flex": null,
            "flex_flow": null,
            "grid_area": null,
            "grid_auto_columns": null,
            "grid_auto_flow": null,
            "grid_auto_rows": null,
            "grid_column": null,
            "grid_gap": null,
            "grid_row": null,
            "grid_template_areas": null,
            "grid_template_columns": null,
            "grid_template_rows": null,
            "height": null,
            "justify_content": null,
            "justify_items": null,
            "left": null,
            "margin": null,
            "max_height": null,
            "max_width": null,
            "min_height": null,
            "min_width": null,
            "object_fit": null,
            "object_position": null,
            "order": null,
            "overflow": null,
            "overflow_x": null,
            "overflow_y": null,
            "padding": null,
            "right": null,
            "top": null,
            "visibility": null,
            "width": null
          }
        },
        "b1fef4c46f324521bc12e848e65e1a70": {
          "model_module": "@jupyter-widgets/base",
          "model_module_version": "1.2.0",
          "model_name": "LayoutModel",
          "state": {
            "_model_module": "@jupyter-widgets/base",
            "_model_module_version": "1.2.0",
            "_model_name": "LayoutModel",
            "_view_count": null,
            "_view_module": "@jupyter-widgets/base",
            "_view_module_version": "1.2.0",
            "_view_name": "LayoutView",
            "align_content": null,
            "align_items": null,
            "align_self": null,
            "border": null,
            "bottom": null,
            "display": null,
            "flex": null,
            "flex_flow": null,
            "grid_area": null,
            "grid_auto_columns": null,
            "grid_auto_flow": null,
            "grid_auto_rows": null,
            "grid_column": null,
            "grid_gap": null,
            "grid_row": null,
            "grid_template_areas": null,
            "grid_template_columns": null,
            "grid_template_rows": null,
            "height": null,
            "justify_content": null,
            "justify_items": null,
            "left": null,
            "margin": null,
            "max_height": null,
            "max_width": null,
            "min_height": null,
            "min_width": null,
            "object_fit": null,
            "object_position": null,
            "order": null,
            "overflow": null,
            "overflow_x": null,
            "overflow_y": null,
            "padding": null,
            "right": null,
            "top": null,
            "visibility": null,
            "width": null
          }
        },
        "b7dceec9d1b24c4db64ee8b7983f42d1": {
          "model_module": "@jupyter-widgets/controls",
          "model_module_version": "1.5.0",
          "model_name": "HBoxModel",
          "state": {
            "_dom_classes": [],
            "_model_module": "@jupyter-widgets/controls",
            "_model_module_version": "1.5.0",
            "_model_name": "HBoxModel",
            "_view_count": null,
            "_view_module": "@jupyter-widgets/controls",
            "_view_module_version": "1.5.0",
            "_view_name": "HBoxView",
            "box_style": "",
            "children": [
              "IPY_MODEL_e4b8056fad9545e19b878da732184f2c",
              "IPY_MODEL_9c8cdf441c91464387213079a179fb58",
              "IPY_MODEL_e41472a38ba5413aa9a9c5e0ae91a8d1"
            ],
            "layout": "IPY_MODEL_269008ff12794c329887d7c58bd27a5b"
          }
        },
        "c0b1313e788141cd883deaf0edfcfc0b": {
          "model_module": "@jupyter-widgets/controls",
          "model_module_version": "1.5.0",
          "model_name": "FloatProgressModel",
          "state": {
            "_dom_classes": [],
            "_model_module": "@jupyter-widgets/controls",
            "_model_module_version": "1.5.0",
            "_model_name": "FloatProgressModel",
            "_view_count": null,
            "_view_module": "@jupyter-widgets/controls",
            "_view_module_version": "1.5.0",
            "_view_name": "ProgressView",
            "bar_style": "success",
            "description": "",
            "description_tooltip": null,
            "layout": "IPY_MODEL_7751787da00142d5a82c6d94be341218",
            "max": 170498071,
            "min": 0,
            "orientation": "horizontal",
            "style": "IPY_MODEL_64a0e1339a04460dbedc723c60c2d68e",
            "value": 170498071
          }
        },
        "d4bb9dd817bf47b0b204462515dedf5c": {
          "model_module": "@jupyter-widgets/controls",
          "model_module_version": "1.5.0",
          "model_name": "DescriptionStyleModel",
          "state": {
            "_model_module": "@jupyter-widgets/controls",
            "_model_module_version": "1.5.0",
            "_model_name": "DescriptionStyleModel",
            "_view_count": null,
            "_view_module": "@jupyter-widgets/base",
            "_view_module_version": "1.2.0",
            "_view_name": "StyleView",
            "description_width": ""
          }
        },
        "d8fc09623abe42ef9fa2aa541f179b5e": {
          "model_module": "@jupyter-widgets/controls",
          "model_module_version": "1.5.0",
          "model_name": "HBoxModel",
          "state": {
            "_dom_classes": [],
            "_model_module": "@jupyter-widgets/controls",
            "_model_module_version": "1.5.0",
            "_model_name": "HBoxModel",
            "_view_count": null,
            "_view_module": "@jupyter-widgets/controls",
            "_view_module_version": "1.5.0",
            "_view_name": "HBoxView",
            "box_style": "",
            "children": [
              "IPY_MODEL_6ac6f72903184095b2b999edea30dfdd",
              "IPY_MODEL_c0b1313e788141cd883deaf0edfcfc0b",
              "IPY_MODEL_e5091c0182104386b443b7f88be09c7a"
            ],
            "layout": "IPY_MODEL_133ff57812d54784944f04631575f25c"
          }
        },
        "e41472a38ba5413aa9a9c5e0ae91a8d1": {
          "model_module": "@jupyter-widgets/controls",
          "model_module_version": "1.5.0",
          "model_name": "HTMLModel",
          "state": {
            "_dom_classes": [],
            "_model_module": "@jupyter-widgets/controls",
            "_model_module_version": "1.5.0",
            "_model_name": "HTMLModel",
            "_view_count": null,
            "_view_module": "@jupyter-widgets/controls",
            "_view_module_version": "1.5.0",
            "_view_name": "HTMLView",
            "description": "",
            "description_tooltip": null,
            "layout": "IPY_MODEL_a7c2307465414d2884b194223d6567a5",
            "placeholder": "​",
            "style": "IPY_MODEL_4b401c65cc68420790594dba5877501d",
            "value": " 170498071/170498071 [00:03&lt;00:00, 51842222.10it/s]"
          }
        },
        "e4b8056fad9545e19b878da732184f2c": {
          "model_module": "@jupyter-widgets/controls",
          "model_module_version": "1.5.0",
          "model_name": "HTMLModel",
          "state": {
            "_dom_classes": [],
            "_model_module": "@jupyter-widgets/controls",
            "_model_module_version": "1.5.0",
            "_model_name": "HTMLModel",
            "_view_count": null,
            "_view_module": "@jupyter-widgets/controls",
            "_view_module_version": "1.5.0",
            "_view_name": "HTMLView",
            "description": "",
            "description_tooltip": null,
            "layout": "IPY_MODEL_39f7ff272deb447d838cccc726cacc0b",
            "placeholder": "​",
            "style": "IPY_MODEL_fed7f64132d947f3858b70aeff29ec07",
            "value": "100%"
          }
        },
        "e5091c0182104386b443b7f88be09c7a": {
          "model_module": "@jupyter-widgets/controls",
          "model_module_version": "1.5.0",
          "model_name": "HTMLModel",
          "state": {
            "_dom_classes": [],
            "_model_module": "@jupyter-widgets/controls",
            "_model_module_version": "1.5.0",
            "_model_name": "HTMLModel",
            "_view_count": null,
            "_view_module": "@jupyter-widgets/controls",
            "_view_module_version": "1.5.0",
            "_view_name": "HTMLView",
            "description": "",
            "description_tooltip": null,
            "layout": "IPY_MODEL_e70ece4382084f88ae4a9b39edcaccc2",
            "placeholder": "​",
            "style": "IPY_MODEL_d4bb9dd817bf47b0b204462515dedf5c",
            "value": " 170498071/170498071 [00:03&lt;00:00, 53112300.30it/s]"
          }
        },
        "e70ece4382084f88ae4a9b39edcaccc2": {
          "model_module": "@jupyter-widgets/base",
          "model_module_version": "1.2.0",
          "model_name": "LayoutModel",
          "state": {
            "_model_module": "@jupyter-widgets/base",
            "_model_module_version": "1.2.0",
            "_model_name": "LayoutModel",
            "_view_count": null,
            "_view_module": "@jupyter-widgets/base",
            "_view_module_version": "1.2.0",
            "_view_name": "LayoutView",
            "align_content": null,
            "align_items": null,
            "align_self": null,
            "border": null,
            "bottom": null,
            "display": null,
            "flex": null,
            "flex_flow": null,
            "grid_area": null,
            "grid_auto_columns": null,
            "grid_auto_flow": null,
            "grid_auto_rows": null,
            "grid_column": null,
            "grid_gap": null,
            "grid_row": null,
            "grid_template_areas": null,
            "grid_template_columns": null,
            "grid_template_rows": null,
            "height": null,
            "justify_content": null,
            "justify_items": null,
            "left": null,
            "margin": null,
            "max_height": null,
            "max_width": null,
            "min_height": null,
            "min_width": null,
            "object_fit": null,
            "object_position": null,
            "order": null,
            "overflow": null,
            "overflow_x": null,
            "overflow_y": null,
            "padding": null,
            "right": null,
            "top": null,
            "visibility": null,
            "width": null
          }
        },
        "f4a6f1af430a4c7ebe27893b06718f3f": {
          "model_module": "@jupyter-widgets/base",
          "model_module_version": "1.2.0",
          "model_name": "LayoutModel",
          "state": {
            "_model_module": "@jupyter-widgets/base",
            "_model_module_version": "1.2.0",
            "_model_name": "LayoutModel",
            "_view_count": null,
            "_view_module": "@jupyter-widgets/base",
            "_view_module_version": "1.2.0",
            "_view_name": "LayoutView",
            "align_content": null,
            "align_items": null,
            "align_self": null,
            "border": null,
            "bottom": null,
            "display": null,
            "flex": null,
            "flex_flow": null,
            "grid_area": null,
            "grid_auto_columns": null,
            "grid_auto_flow": null,
            "grid_auto_rows": null,
            "grid_column": null,
            "grid_gap": null,
            "grid_row": null,
            "grid_template_areas": null,
            "grid_template_columns": null,
            "grid_template_rows": null,
            "height": null,
            "justify_content": null,
            "justify_items": null,
            "left": null,
            "margin": null,
            "max_height": null,
            "max_width": null,
            "min_height": null,
            "min_width": null,
            "object_fit": null,
            "object_position": null,
            "order": null,
            "overflow": null,
            "overflow_x": null,
            "overflow_y": null,
            "padding": null,
            "right": null,
            "top": null,
            "visibility": null,
            "width": null
          }
        },
        "fed7f64132d947f3858b70aeff29ec07": {
          "model_module": "@jupyter-widgets/controls",
          "model_module_version": "1.5.0",
          "model_name": "DescriptionStyleModel",
          "state": {
            "_model_module": "@jupyter-widgets/controls",
            "_model_module_version": "1.5.0",
            "_model_name": "DescriptionStyleModel",
            "_view_count": null,
            "_view_module": "@jupyter-widgets/base",
            "_view_module_version": "1.2.0",
            "_view_name": "StyleView",
            "description_width": ""
          }
        }
      }
    }
  },
  "nbformat": 4,
  "nbformat_minor": 0
}
